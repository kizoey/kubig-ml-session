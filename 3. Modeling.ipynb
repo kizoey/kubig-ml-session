{
  "nbformat": 4,
  "nbformat_minor": 0,
  "metadata": {
    "kernelspec": {
      "display_name": "Python 3",
      "language": "python",
      "name": "python3"
    },
    "language_info": {
      "codemirror_mode": {
        "name": "ipython",
        "version": 3
      },
      "file_extension": ".py",
      "mimetype": "text/x-python",
      "name": "python",
      "nbconvert_exporter": "python",
      "pygments_lexer": "ipython3",
      "version": "3.8.5"
    },
    "colab": {
      "name": "13기_박주영_3주차과제.ipynb",
      "provenance": []
    }
  },
  "cells": [
    {
      "cell_type": "markdown",
      "metadata": {
        "id": "Irlqns00nv6z"
      },
      "source": [
        "## Look at the Big Picture\n",
        "\n",
        "- California census data는 각 block group(600~3000명)에서의 population(인구), median income(중위 소득), median houising price(중위 주택 가격) 등을 가지고 있음\n",
        "\n",
        "- 모형은 이 자료를 통해 어떤 구역이든지 그 중위 주택 가격을 예측할 수 있어야 함"
      ]
    },
    {
      "cell_type": "markdown",
      "metadata": {
        "id": "9yukkzM3nv6z"
      },
      "source": [
        "### 1. Frame the Problem\n",
        "\n",
        "1. supervised vs unsupervised vs Reinforcement Learning\n",
        "\n",
        "2. classification vs regression vs something else\n",
        "\n",
        "3. batch learning vs online learning\n",
        "\n",
        "#### 1) supervised 2) multivariate regression 3)  batch learning"
      ]
    },
    {
      "cell_type": "markdown",
      "metadata": {
        "id": "j738xILInv60"
      },
      "source": [
        "### 2. Select a Performance Measure\n",
        "\n",
        "RMSE: A typical performance measure for regression\n",
        "problems\n",
        "\n",
        "MAE: outlier(이상치)가 많을 때 사용"
      ]
    },
    {
      "cell_type": "markdown",
      "metadata": {
        "id": "oSWMEfjmnv60"
      },
      "source": [
        "### 3. Check the Assumptions\n",
        "\n",
        "ex) regression task를 선택했는데 가격변수가 범주형 변수라면? "
      ]
    },
    {
      "cell_type": "markdown",
      "metadata": {
        "id": "uepNz78xnv60"
      },
      "source": [
        "## Get the Data"
      ]
    },
    {
      "cell_type": "markdown",
      "metadata": {
        "id": "zvFQB4EOnv60"
      },
      "source": [
        "### 1. Download the Data"
      ]
    },
    {
      "cell_type": "code",
      "metadata": {
        "id": "sTZRYcCInv60"
      },
      "source": [
        "import os\n",
        "import numpy as np\n",
        "\n",
        "np.random.seed(42)   # 일관된 출력을 위해 유사난수 초기화\n",
        "\n",
        "%matplotlib inline\n",
        "import matplotlib\n",
        "import matplotlib.pyplot as plt\n",
        "import seaborn as sn\n",
        "plt.rcParams['axes.labelsize'] = 14   # rcParams을 이용하여 차트 그림(figure)의 기본 설정을 지정\n",
        "plt.rcParams['xtick.labelsize'] = 12\n",
        "plt.rcParams['ytick.labelsize'] = 12\n",
        "sn.set()\n",
        "\n",
        "matplotlib.rc('font', family='NanumBarunGothic')   # 한글출력\n",
        "plt.rcParams['axes.unicode_minus'] = False"
      ],
      "execution_count": null,
      "outputs": []
    },
    {
      "cell_type": "code",
      "metadata": {
        "id": "Hvih_xRQnv61"
      },
      "source": [
        "import pandas as pd\n",
        "\n",
        "housing = pd.read_csv('C:/Users/Park JuYoung/Desktop/머신러닝/Week3/housing.csv')"
      ],
      "execution_count": null,
      "outputs": []
    },
    {
      "cell_type": "markdown",
      "metadata": {
        "id": "kWl5oUMInv61"
      },
      "source": [
        "### 2. Take a Quick Look at the Data Structure"
      ]
    },
    {
      "cell_type": "code",
      "metadata": {
        "id": "_3YD3kKdnv61",
        "outputId": "b676e1e4-0427-4eae-81e8-f5a30d26d1e2"
      },
      "source": [
        "housing.head()\n",
        "\n",
        "# 각 행은 한 district를 나타냄\n",
        "# 10개의 속성(열)을 가짐"
      ],
      "execution_count": null,
      "outputs": [
        {
          "data": {
            "text/html": [
              "<div>\n",
              "<style scoped>\n",
              "    .dataframe tbody tr th:only-of-type {\n",
              "        vertical-align: middle;\n",
              "    }\n",
              "\n",
              "    .dataframe tbody tr th {\n",
              "        vertical-align: top;\n",
              "    }\n",
              "\n",
              "    .dataframe thead th {\n",
              "        text-align: right;\n",
              "    }\n",
              "</style>\n",
              "<table border=\"1\" class=\"dataframe\">\n",
              "  <thead>\n",
              "    <tr style=\"text-align: right;\">\n",
              "      <th></th>\n",
              "      <th>longitude</th>\n",
              "      <th>latitude</th>\n",
              "      <th>housing_median_age</th>\n",
              "      <th>total_rooms</th>\n",
              "      <th>total_bedrooms</th>\n",
              "      <th>population</th>\n",
              "      <th>households</th>\n",
              "      <th>median_income</th>\n",
              "      <th>median_house_value</th>\n",
              "      <th>ocean_proximity</th>\n",
              "    </tr>\n",
              "  </thead>\n",
              "  <tbody>\n",
              "    <tr>\n",
              "      <th>0</th>\n",
              "      <td>-122.23</td>\n",
              "      <td>37.88</td>\n",
              "      <td>41.0</td>\n",
              "      <td>880.0</td>\n",
              "      <td>129.0</td>\n",
              "      <td>322.0</td>\n",
              "      <td>126.0</td>\n",
              "      <td>8.3252</td>\n",
              "      <td>452600.0</td>\n",
              "      <td>NEAR BAY</td>\n",
              "    </tr>\n",
              "    <tr>\n",
              "      <th>1</th>\n",
              "      <td>-122.22</td>\n",
              "      <td>37.86</td>\n",
              "      <td>21.0</td>\n",
              "      <td>7099.0</td>\n",
              "      <td>1106.0</td>\n",
              "      <td>2401.0</td>\n",
              "      <td>1138.0</td>\n",
              "      <td>8.3014</td>\n",
              "      <td>358500.0</td>\n",
              "      <td>NEAR BAY</td>\n",
              "    </tr>\n",
              "    <tr>\n",
              "      <th>2</th>\n",
              "      <td>-122.24</td>\n",
              "      <td>37.85</td>\n",
              "      <td>52.0</td>\n",
              "      <td>1467.0</td>\n",
              "      <td>190.0</td>\n",
              "      <td>496.0</td>\n",
              "      <td>177.0</td>\n",
              "      <td>7.2574</td>\n",
              "      <td>352100.0</td>\n",
              "      <td>NEAR BAY</td>\n",
              "    </tr>\n",
              "    <tr>\n",
              "      <th>3</th>\n",
              "      <td>-122.25</td>\n",
              "      <td>37.85</td>\n",
              "      <td>52.0</td>\n",
              "      <td>1274.0</td>\n",
              "      <td>235.0</td>\n",
              "      <td>558.0</td>\n",
              "      <td>219.0</td>\n",
              "      <td>5.6431</td>\n",
              "      <td>341300.0</td>\n",
              "      <td>NEAR BAY</td>\n",
              "    </tr>\n",
              "    <tr>\n",
              "      <th>4</th>\n",
              "      <td>-122.25</td>\n",
              "      <td>37.85</td>\n",
              "      <td>52.0</td>\n",
              "      <td>1627.0</td>\n",
              "      <td>280.0</td>\n",
              "      <td>565.0</td>\n",
              "      <td>259.0</td>\n",
              "      <td>3.8462</td>\n",
              "      <td>342200.0</td>\n",
              "      <td>NEAR BAY</td>\n",
              "    </tr>\n",
              "  </tbody>\n",
              "</table>\n",
              "</div>"
            ],
            "text/plain": [
              "   longitude  latitude  housing_median_age  total_rooms  total_bedrooms  \\\n",
              "0    -122.23     37.88                41.0        880.0           129.0   \n",
              "1    -122.22     37.86                21.0       7099.0          1106.0   \n",
              "2    -122.24     37.85                52.0       1467.0           190.0   \n",
              "3    -122.25     37.85                52.0       1274.0           235.0   \n",
              "4    -122.25     37.85                52.0       1627.0           280.0   \n",
              "\n",
              "   population  households  median_income  median_house_value ocean_proximity  \n",
              "0       322.0       126.0         8.3252            452600.0        NEAR BAY  \n",
              "1      2401.0      1138.0         8.3014            358500.0        NEAR BAY  \n",
              "2       496.0       177.0         7.2574            352100.0        NEAR BAY  \n",
              "3       558.0       219.0         5.6431            341300.0        NEAR BAY  \n",
              "4       565.0       259.0         3.8462            342200.0        NEAR BAY  "
            ]
          },
          "execution_count": 4,
          "metadata": {},
          "output_type": "execute_result"
        }
      ]
    },
    {
      "cell_type": "code",
      "metadata": {
        "id": "sYX6rU9cnv62",
        "outputId": "ce53b5dc-10c0-482d-e429-6300ec79f912"
      },
      "source": [
        "housing.info()\n",
        "\n",
        "# 총 20640개의 instances를 가지며 이는 머신러닝에서 꽤 작은 크기임\n",
        "# total_bedroom을 보면 207개의 district에서 결측치가 있음을 확인할 수 있음\n",
        "# ocean_proximity만 object(text): 범주형 자료이고 나머지는 전부 numerical"
      ],
      "execution_count": null,
      "outputs": [
        {
          "name": "stdout",
          "output_type": "stream",
          "text": [
            "<class 'pandas.core.frame.DataFrame'>\n",
            "RangeIndex: 20640 entries, 0 to 20639\n",
            "Data columns (total 10 columns):\n",
            " #   Column              Non-Null Count  Dtype  \n",
            "---  ------              --------------  -----  \n",
            " 0   longitude           20640 non-null  float64\n",
            " 1   latitude            20640 non-null  float64\n",
            " 2   housing_median_age  20640 non-null  float64\n",
            " 3   total_rooms         20640 non-null  float64\n",
            " 4   total_bedrooms      20433 non-null  float64\n",
            " 5   population          20640 non-null  float64\n",
            " 6   households          20640 non-null  float64\n",
            " 7   median_income       20640 non-null  float64\n",
            " 8   median_house_value  20640 non-null  float64\n",
            " 9   ocean_proximity     20640 non-null  object \n",
            "dtypes: float64(9), object(1)\n",
            "memory usage: 1.6+ MB\n"
          ]
        }
      ]
    },
    {
      "cell_type": "code",
      "metadata": {
        "id": "IF1M8Q2Anv62",
        "outputId": "26888e43-61e9-4c23-fba3-7ddc9042129b"
      },
      "source": [
        "housing[\"ocean_proximity\"].value_counts()   # value_counts(): 무슨 범주가 존재하고 얼마나 많은 districts가 각 범주에 속하는지 확인"
      ],
      "execution_count": null,
      "outputs": [
        {
          "data": {
            "text/plain": [
              "<1H OCEAN     9136\n",
              "INLAND        6551\n",
              "NEAR OCEAN    2658\n",
              "NEAR BAY      2290\n",
              "ISLAND           5\n",
              "Name: ocean_proximity, dtype: int64"
            ]
          },
          "execution_count": 6,
          "metadata": {},
          "output_type": "execute_result"
        }
      ]
    },
    {
      "cell_type": "code",
      "metadata": {
        "id": "gESmmoz9nv63",
        "outputId": "ddd6558f-ba08-43fc-aecd-93ac53a52c84"
      },
      "source": [
        "display(housing.describe())   # 수치형 자료의 summary"
      ],
      "execution_count": null,
      "outputs": [
        {
          "data": {
            "text/html": [
              "<div>\n",
              "<style scoped>\n",
              "    .dataframe tbody tr th:only-of-type {\n",
              "        vertical-align: middle;\n",
              "    }\n",
              "\n",
              "    .dataframe tbody tr th {\n",
              "        vertical-align: top;\n",
              "    }\n",
              "\n",
              "    .dataframe thead th {\n",
              "        text-align: right;\n",
              "    }\n",
              "</style>\n",
              "<table border=\"1\" class=\"dataframe\">\n",
              "  <thead>\n",
              "    <tr style=\"text-align: right;\">\n",
              "      <th></th>\n",
              "      <th>longitude</th>\n",
              "      <th>latitude</th>\n",
              "      <th>housing_median_age</th>\n",
              "      <th>total_rooms</th>\n",
              "      <th>total_bedrooms</th>\n",
              "      <th>population</th>\n",
              "      <th>households</th>\n",
              "      <th>median_income</th>\n",
              "      <th>median_house_value</th>\n",
              "    </tr>\n",
              "  </thead>\n",
              "  <tbody>\n",
              "    <tr>\n",
              "      <th>count</th>\n",
              "      <td>20640.000000</td>\n",
              "      <td>20640.000000</td>\n",
              "      <td>20640.000000</td>\n",
              "      <td>20640.000000</td>\n",
              "      <td>20433.000000</td>\n",
              "      <td>20640.000000</td>\n",
              "      <td>20640.000000</td>\n",
              "      <td>20640.000000</td>\n",
              "      <td>20640.000000</td>\n",
              "    </tr>\n",
              "    <tr>\n",
              "      <th>mean</th>\n",
              "      <td>-119.569704</td>\n",
              "      <td>35.631861</td>\n",
              "      <td>28.639486</td>\n",
              "      <td>2635.763081</td>\n",
              "      <td>537.870553</td>\n",
              "      <td>1425.476744</td>\n",
              "      <td>499.539680</td>\n",
              "      <td>3.870671</td>\n",
              "      <td>206855.816909</td>\n",
              "    </tr>\n",
              "    <tr>\n",
              "      <th>std</th>\n",
              "      <td>2.003532</td>\n",
              "      <td>2.135952</td>\n",
              "      <td>12.585558</td>\n",
              "      <td>2181.615252</td>\n",
              "      <td>421.385070</td>\n",
              "      <td>1132.462122</td>\n",
              "      <td>382.329753</td>\n",
              "      <td>1.899822</td>\n",
              "      <td>115395.615874</td>\n",
              "    </tr>\n",
              "    <tr>\n",
              "      <th>min</th>\n",
              "      <td>-124.350000</td>\n",
              "      <td>32.540000</td>\n",
              "      <td>1.000000</td>\n",
              "      <td>2.000000</td>\n",
              "      <td>1.000000</td>\n",
              "      <td>3.000000</td>\n",
              "      <td>1.000000</td>\n",
              "      <td>0.499900</td>\n",
              "      <td>14999.000000</td>\n",
              "    </tr>\n",
              "    <tr>\n",
              "      <th>25%</th>\n",
              "      <td>-121.800000</td>\n",
              "      <td>33.930000</td>\n",
              "      <td>18.000000</td>\n",
              "      <td>1447.750000</td>\n",
              "      <td>296.000000</td>\n",
              "      <td>787.000000</td>\n",
              "      <td>280.000000</td>\n",
              "      <td>2.563400</td>\n",
              "      <td>119600.000000</td>\n",
              "    </tr>\n",
              "    <tr>\n",
              "      <th>50%</th>\n",
              "      <td>-118.490000</td>\n",
              "      <td>34.260000</td>\n",
              "      <td>29.000000</td>\n",
              "      <td>2127.000000</td>\n",
              "      <td>435.000000</td>\n",
              "      <td>1166.000000</td>\n",
              "      <td>409.000000</td>\n",
              "      <td>3.534800</td>\n",
              "      <td>179700.000000</td>\n",
              "    </tr>\n",
              "    <tr>\n",
              "      <th>75%</th>\n",
              "      <td>-118.010000</td>\n",
              "      <td>37.710000</td>\n",
              "      <td>37.000000</td>\n",
              "      <td>3148.000000</td>\n",
              "      <td>647.000000</td>\n",
              "      <td>1725.000000</td>\n",
              "      <td>605.000000</td>\n",
              "      <td>4.743250</td>\n",
              "      <td>264725.000000</td>\n",
              "    </tr>\n",
              "    <tr>\n",
              "      <th>max</th>\n",
              "      <td>-114.310000</td>\n",
              "      <td>41.950000</td>\n",
              "      <td>52.000000</td>\n",
              "      <td>39320.000000</td>\n",
              "      <td>6445.000000</td>\n",
              "      <td>35682.000000</td>\n",
              "      <td>6082.000000</td>\n",
              "      <td>15.000100</td>\n",
              "      <td>500001.000000</td>\n",
              "    </tr>\n",
              "  </tbody>\n",
              "</table>\n",
              "</div>"
            ],
            "text/plain": [
              "          longitude      latitude  housing_median_age   total_rooms  \\\n",
              "count  20640.000000  20640.000000        20640.000000  20640.000000   \n",
              "mean    -119.569704     35.631861           28.639486   2635.763081   \n",
              "std        2.003532      2.135952           12.585558   2181.615252   \n",
              "min     -124.350000     32.540000            1.000000      2.000000   \n",
              "25%     -121.800000     33.930000           18.000000   1447.750000   \n",
              "50%     -118.490000     34.260000           29.000000   2127.000000   \n",
              "75%     -118.010000     37.710000           37.000000   3148.000000   \n",
              "max     -114.310000     41.950000           52.000000  39320.000000   \n",
              "\n",
              "       total_bedrooms    population    households  median_income  \\\n",
              "count    20433.000000  20640.000000  20640.000000   20640.000000   \n",
              "mean       537.870553   1425.476744    499.539680       3.870671   \n",
              "std        421.385070   1132.462122    382.329753       1.899822   \n",
              "min          1.000000      3.000000      1.000000       0.499900   \n",
              "25%        296.000000    787.000000    280.000000       2.563400   \n",
              "50%        435.000000   1166.000000    409.000000       3.534800   \n",
              "75%        647.000000   1725.000000    605.000000       4.743250   \n",
              "max       6445.000000  35682.000000   6082.000000      15.000100   \n",
              "\n",
              "       median_house_value  \n",
              "count        20640.000000  \n",
              "mean        206855.816909  \n",
              "std         115395.615874  \n",
              "min          14999.000000  \n",
              "25%         119600.000000  \n",
              "50%         179700.000000  \n",
              "75%         264725.000000  \n",
              "max         500001.000000  "
            ]
          },
          "metadata": {},
          "output_type": "display_data"
        }
      ]
    },
    {
      "cell_type": "code",
      "metadata": {
        "id": "7Bl_u-rYnv63",
        "outputId": "dbaa31c3-74a5-4fb0-91b7-4587480752ff"
      },
      "source": [
        "housing.hist(bins=50, figsize=(20,15))\n",
        "plt.show()"
      ],
      "execution_count": null,
      "outputs": [
        {
          "name": "stderr",
          "output_type": "stream",
          "text": [
            "findfont: Font family ['NanumBarunGothic'] not found. Falling back to DejaVu Sans.\n",
            "findfont: Font family ['NanumBarunGothic'] not found. Falling back to DejaVu Sans.\n"
          ]
        },
        {
          "data": {
            "image/png": "[encoded data removed]",
            "text/plain": [
              "<Figure size 1440x1080 with 9 Axes>"
            ]
          },
          "metadata": {},
          "output_type": "display_data"
        }
      ]
    },
    {
      "cell_type": "markdown",
      "metadata": {
        "id": "LLun78Qonv63"
      },
      "source": [
        "##### 히스토그램을 통해 알 수 있는 점들\n",
        "\n",
        "1. 중위소득은 US Dollors로 표현된 것처럼 보이지 않음 (자료가 scale 되었음) cf) x축과 y축을 잘 보자!\n",
        "\n",
        "2. 주택 중간 연령과 중간 주택 가격 모두 상한선 있음. 중간 주택 가격의 경우 우리의 target attribute이기 때문에 문제가 될 수 있음. client 팀과 함께 확인해 본 결과 상한선 밑의 정확한 예측치가 필요하다면 다음 두가지 옵션이 있음\n",
        "\n",
        "a) 상한선이된 district의 적절한 레이블들을 수집\n",
        "\n",
        "b) 상한선이된 district를 training/test set에서 모두 제거\n",
        "\n",
        "3. 이 속성(열)들은 모두 다른 척도를 가지고 있음 (feature scailing 필요)\n",
        "\n",
        "4. 많은 히스토그램의 꼬리가 두터움: 중위수의 왼쪽보다 오른쪽으로 훨씬 치우쳐 있음. 이는 ML 알고리즘이 패턴을 찾기 어렵게 만듦. 그러므로 bell-shaped 분포가 되도록 변형시켜야 함"
      ]
    },
    {
      "cell_type": "markdown",
      "metadata": {
        "id": "5SY5H7pPnv63"
      },
      "source": [
        "### 3. Create a Test Set"
      ]
    },
    {
      "cell_type": "markdown",
      "metadata": {
        "id": "W4gEFrdpnv63"
      },
      "source": [
        "#### 1) np.random.permutaion을 이용해 Train/Test set 나누기\n",
        "\n",
        "dataset을 업데이트할 경우 solutions will break"
      ]
    },
    {
      "cell_type": "code",
      "metadata": {
        "id": "BuFYkCo3nv63"
      },
      "source": [
        "np.random.seed(42)\n",
        "def split_train_test(data, test_ratio):   # 자료와 test_ratio를 넣어 train data와 test data를 구분하는 함수 생성\n",
        "    shuffled_indices = np.random.permutation(len(data))   # np.random.permutaion을 이용\n",
        "    test_set_size = int(len(data) * test_ratio)\n",
        "    test_indices = shuffled_indices[:test_set_size]\n",
        "    train_indices = shuffled_indices[test_set_size:]\n",
        "    return data.iloc[train_indices], data.iloc[test_indices]"
      ],
      "execution_count": null,
      "outputs": []
    },
    {
      "cell_type": "code",
      "metadata": {
        "id": "y1KQavsXnv63",
        "outputId": "a689dc1d-5039-40ae-d49a-ecc24b81a3f6"
      },
      "source": [
        "train_set, test_set = split_train_test(housing, 0.2)   # 20%만큼을 test data로 분류\n",
        "print(len(train_set), \"train +\", len(test_set), \"test\")"
      ],
      "execution_count": null,
      "outputs": [
        {
          "name": "stdout",
          "output_type": "stream",
          "text": [
            "16512 train + 4128 test\n"
          ]
        }
      ]
    },
    {
      "cell_type": "code",
      "metadata": {
        "id": "4A024HT_nv64",
        "outputId": "7c34657a-199e-432a-f369-e3271224be68"
      },
      "source": [
        "test_set.head()"
      ],
      "execution_count": null,
      "outputs": [
        {
          "data": {
            "text/html": [
              "<div>\n",
              "<style scoped>\n",
              "    .dataframe tbody tr th:only-of-type {\n",
              "        vertical-align: middle;\n",
              "    }\n",
              "\n",
              "    .dataframe tbody tr th {\n",
              "        vertical-align: top;\n",
              "    }\n",
              "\n",
              "    .dataframe thead th {\n",
              "        text-align: right;\n",
              "    }\n",
              "</style>\n",
              "<table border=\"1\" class=\"dataframe\">\n",
              "  <thead>\n",
              "    <tr style=\"text-align: right;\">\n",
              "      <th></th>\n",
              "      <th>longitude</th>\n",
              "      <th>latitude</th>\n",
              "      <th>housing_median_age</th>\n",
              "      <th>total_rooms</th>\n",
              "      <th>total_bedrooms</th>\n",
              "      <th>population</th>\n",
              "      <th>households</th>\n",
              "      <th>median_income</th>\n",
              "      <th>median_house_value</th>\n",
              "      <th>ocean_proximity</th>\n",
              "    </tr>\n",
              "  </thead>\n",
              "  <tbody>\n",
              "    <tr>\n",
              "      <th>20046</th>\n",
              "      <td>-119.01</td>\n",
              "      <td>36.06</td>\n",
              "      <td>25.0</td>\n",
              "      <td>1505.0</td>\n",
              "      <td>NaN</td>\n",
              "      <td>1392.0</td>\n",
              "      <td>359.0</td>\n",
              "      <td>1.6812</td>\n",
              "      <td>47700.0</td>\n",
              "      <td>INLAND</td>\n",
              "    </tr>\n",
              "    <tr>\n",
              "      <th>3024</th>\n",
              "      <td>-119.46</td>\n",
              "      <td>35.14</td>\n",
              "      <td>30.0</td>\n",
              "      <td>2943.0</td>\n",
              "      <td>NaN</td>\n",
              "      <td>1565.0</td>\n",
              "      <td>584.0</td>\n",
              "      <td>2.5313</td>\n",
              "      <td>45800.0</td>\n",
              "      <td>INLAND</td>\n",
              "    </tr>\n",
              "    <tr>\n",
              "      <th>15663</th>\n",
              "      <td>-122.44</td>\n",
              "      <td>37.80</td>\n",
              "      <td>52.0</td>\n",
              "      <td>3830.0</td>\n",
              "      <td>NaN</td>\n",
              "      <td>1310.0</td>\n",
              "      <td>963.0</td>\n",
              "      <td>3.4801</td>\n",
              "      <td>500001.0</td>\n",
              "      <td>NEAR BAY</td>\n",
              "    </tr>\n",
              "    <tr>\n",
              "      <th>20484</th>\n",
              "      <td>-118.72</td>\n",
              "      <td>34.28</td>\n",
              "      <td>17.0</td>\n",
              "      <td>3051.0</td>\n",
              "      <td>NaN</td>\n",
              "      <td>1705.0</td>\n",
              "      <td>495.0</td>\n",
              "      <td>5.7376</td>\n",
              "      <td>218600.0</td>\n",
              "      <td>&lt;1H OCEAN</td>\n",
              "    </tr>\n",
              "    <tr>\n",
              "      <th>9814</th>\n",
              "      <td>-121.93</td>\n",
              "      <td>36.62</td>\n",
              "      <td>34.0</td>\n",
              "      <td>2351.0</td>\n",
              "      <td>NaN</td>\n",
              "      <td>1063.0</td>\n",
              "      <td>428.0</td>\n",
              "      <td>3.7250</td>\n",
              "      <td>278000.0</td>\n",
              "      <td>NEAR OCEAN</td>\n",
              "    </tr>\n",
              "  </tbody>\n",
              "</table>\n",
              "</div>"
            ],
            "text/plain": [
              "       longitude  latitude  housing_median_age  total_rooms  total_bedrooms  \\\n",
              "20046    -119.01     36.06                25.0       1505.0             NaN   \n",
              "3024     -119.46     35.14                30.0       2943.0             NaN   \n",
              "15663    -122.44     37.80                52.0       3830.0             NaN   \n",
              "20484    -118.72     34.28                17.0       3051.0             NaN   \n",
              "9814     -121.93     36.62                34.0       2351.0             NaN   \n",
              "\n",
              "       population  households  median_income  median_house_value  \\\n",
              "20046      1392.0       359.0         1.6812             47700.0   \n",
              "3024       1565.0       584.0         2.5313             45800.0   \n",
              "15663      1310.0       963.0         3.4801            500001.0   \n",
              "20484      1705.0       495.0         5.7376            218600.0   \n",
              "9814       1063.0       428.0         3.7250            278000.0   \n",
              "\n",
              "      ocean_proximity  \n",
              "20046          INLAND  \n",
              "3024           INLAND  \n",
              "15663        NEAR BAY  \n",
              "20484       <1H OCEAN  \n",
              "9814       NEAR OCEAN  "
            ]
          },
          "execution_count": 11,
          "metadata": {},
          "output_type": "execute_result"
        }
      ]
    },
    {
      "cell_type": "markdown",
      "metadata": {
        "id": "oDf0MmqUnv64"
      },
      "source": [
        "#### 2) hashlib을 이용해 Train/Test set 나누기\n",
        "\n",
        "np.permutaion()의 단점을 보완하는 방법"
      ]
    },
    {
      "cell_type": "code",
      "metadata": {
        "id": "uanwKbJpnv64"
      },
      "source": [
        "import hashlib\n",
        "\n",
        "def test_set_check(identifier, test_ratio, hash):\n",
        "    return hash(np.int64(identifier)).digest()[-1] < 256 * test_ratio   # digest(): 요약\n",
        "# hash의 마지막 byte 값(identifier)이 51(256의 test ratio(20%)) 이하인 instances를 test set에 할당        \n",
        "# 여러번 학습시켜도 test set을 지속적으로 사용 가능\n",
        "\n",
        "def split_train_test_by_id(data, test_ratio, id_column, hash=hashlib.md5):\n",
        "    ids = data[id_column]\n",
        "    in_test_set = ids.apply(lambda id_: test_set_check(id_, test_ratio, hash))\n",
        "    return data.loc[~in_test_set], data.loc[in_test_set]"
      ],
      "execution_count": null,
      "outputs": []
    },
    {
      "cell_type": "code",
      "metadata": {
        "id": "ZetsIY_rnv64",
        "outputId": "0c003edd-265a-4e2f-a90e-f88ae12b1948"
      },
      "source": [
        "housing_with_id = housing.reset_index() # adds an `index` column\n",
        "# housing data set에는 identifier column이 없기 때문에 index를 추가해 사용\n",
        "\n",
        "train_set, test_set = split_train_test_by_id(housing_with_id, 0.2, \"index\")\n",
        "print(len(train_set),\"train +\",len(test_set),\"test\")"
      ],
      "execution_count": null,
      "outputs": [
        {
          "name": "stdout",
          "output_type": "stream",
          "text": [
            "16362 train + 4278 test\n"
          ]
        }
      ]
    },
    {
      "cell_type": "code",
      "metadata": {
        "id": "Oz0jlOfZnv64",
        "outputId": "b15480c7-9bd3-4f47-cb5c-7160b157b2c3"
      },
      "source": [
        "test_set.head()"
      ],
      "execution_count": null,
      "outputs": [
        {
          "data": {
            "text/html": [
              "<div>\n",
              "<style scoped>\n",
              "    .dataframe tbody tr th:only-of-type {\n",
              "        vertical-align: middle;\n",
              "    }\n",
              "\n",
              "    .dataframe tbody tr th {\n",
              "        vertical-align: top;\n",
              "    }\n",
              "\n",
              "    .dataframe thead th {\n",
              "        text-align: right;\n",
              "    }\n",
              "</style>\n",
              "<table border=\"1\" class=\"dataframe\">\n",
              "  <thead>\n",
              "    <tr style=\"text-align: right;\">\n",
              "      <th></th>\n",
              "      <th>index</th>\n",
              "      <th>longitude</th>\n",
              "      <th>latitude</th>\n",
              "      <th>housing_median_age</th>\n",
              "      <th>total_rooms</th>\n",
              "      <th>total_bedrooms</th>\n",
              "      <th>population</th>\n",
              "      <th>households</th>\n",
              "      <th>median_income</th>\n",
              "      <th>median_house_value</th>\n",
              "      <th>ocean_proximity</th>\n",
              "    </tr>\n",
              "  </thead>\n",
              "  <tbody>\n",
              "    <tr>\n",
              "      <th>4</th>\n",
              "      <td>4</td>\n",
              "      <td>-122.25</td>\n",
              "      <td>37.85</td>\n",
              "      <td>52.0</td>\n",
              "      <td>1627.0</td>\n",
              "      <td>280.0</td>\n",
              "      <td>565.0</td>\n",
              "      <td>259.0</td>\n",
              "      <td>3.8462</td>\n",
              "      <td>342200.0</td>\n",
              "      <td>NEAR BAY</td>\n",
              "    </tr>\n",
              "    <tr>\n",
              "      <th>5</th>\n",
              "      <td>5</td>\n",
              "      <td>-122.25</td>\n",
              "      <td>37.85</td>\n",
              "      <td>52.0</td>\n",
              "      <td>919.0</td>\n",
              "      <td>213.0</td>\n",
              "      <td>413.0</td>\n",
              "      <td>193.0</td>\n",
              "      <td>4.0368</td>\n",
              "      <td>269700.0</td>\n",
              "      <td>NEAR BAY</td>\n",
              "    </tr>\n",
              "    <tr>\n",
              "      <th>11</th>\n",
              "      <td>11</td>\n",
              "      <td>-122.26</td>\n",
              "      <td>37.85</td>\n",
              "      <td>52.0</td>\n",
              "      <td>3503.0</td>\n",
              "      <td>752.0</td>\n",
              "      <td>1504.0</td>\n",
              "      <td>734.0</td>\n",
              "      <td>3.2705</td>\n",
              "      <td>241800.0</td>\n",
              "      <td>NEAR BAY</td>\n",
              "    </tr>\n",
              "    <tr>\n",
              "      <th>20</th>\n",
              "      <td>20</td>\n",
              "      <td>-122.27</td>\n",
              "      <td>37.85</td>\n",
              "      <td>40.0</td>\n",
              "      <td>751.0</td>\n",
              "      <td>184.0</td>\n",
              "      <td>409.0</td>\n",
              "      <td>166.0</td>\n",
              "      <td>1.3578</td>\n",
              "      <td>147500.0</td>\n",
              "      <td>NEAR BAY</td>\n",
              "    </tr>\n",
              "    <tr>\n",
              "      <th>23</th>\n",
              "      <td>23</td>\n",
              "      <td>-122.27</td>\n",
              "      <td>37.84</td>\n",
              "      <td>52.0</td>\n",
              "      <td>1688.0</td>\n",
              "      <td>337.0</td>\n",
              "      <td>853.0</td>\n",
              "      <td>325.0</td>\n",
              "      <td>2.1806</td>\n",
              "      <td>99700.0</td>\n",
              "      <td>NEAR BAY</td>\n",
              "    </tr>\n",
              "  </tbody>\n",
              "</table>\n",
              "</div>"
            ],
            "text/plain": [
              "    index  longitude  latitude  housing_median_age  total_rooms  \\\n",
              "4       4    -122.25     37.85                52.0       1627.0   \n",
              "5       5    -122.25     37.85                52.0        919.0   \n",
              "11     11    -122.26     37.85                52.0       3503.0   \n",
              "20     20    -122.27     37.85                40.0        751.0   \n",
              "23     23    -122.27     37.84                52.0       1688.0   \n",
              "\n",
              "    total_bedrooms  population  households  median_income  median_house_value  \\\n",
              "4            280.0       565.0       259.0         3.8462            342200.0   \n",
              "5            213.0       413.0       193.0         4.0368            269700.0   \n",
              "11           752.0      1504.0       734.0         3.2705            241800.0   \n",
              "20           184.0       409.0       166.0         1.3578            147500.0   \n",
              "23           337.0       853.0       325.0         2.1806             99700.0   \n",
              "\n",
              "   ocean_proximity  \n",
              "4         NEAR BAY  \n",
              "5         NEAR BAY  \n",
              "11        NEAR BAY  \n",
              "20        NEAR BAY  \n",
              "23        NEAR BAY  "
            ]
          },
          "execution_count": 14,
          "metadata": {},
          "output_type": "execute_result"
        }
      ]
    },
    {
      "cell_type": "code",
      "metadata": {
        "id": "B1zjtVmCnv65",
        "outputId": "308a35f9-42c3-49ec-a91b-8b31935ef822"
      },
      "source": [
        "housing_with_id[\"id\"] = housing[\"longitude\"] * 1000 + housing[\"latitude\"]\n",
        "# latitude와 longtitude(잘 변하지 않는 속성)를 사용해 고유의 identifier를 만들어 사용\n",
        "\n",
        "train_set, test_set = split_train_test_by_id(housing_with_id, 0.2, \"id\")\n",
        "print(len(train_set),\"train +\",len(test_set),\"test\")"
      ],
      "execution_count": null,
      "outputs": [
        {
          "name": "stdout",
          "output_type": "stream",
          "text": [
            "16267 train + 4373 test\n"
          ]
        }
      ]
    },
    {
      "cell_type": "code",
      "metadata": {
        "id": "8TrSDrBmnv65",
        "outputId": "b709341a-f651-4ad1-d3af-acac8616ad64"
      },
      "source": [
        "test_set.head()"
      ],
      "execution_count": null,
      "outputs": [
        {
          "data": {
            "text/html": [
              "<div>\n",
              "<style scoped>\n",
              "    .dataframe tbody tr th:only-of-type {\n",
              "        vertical-align: middle;\n",
              "    }\n",
              "\n",
              "    .dataframe tbody tr th {\n",
              "        vertical-align: top;\n",
              "    }\n",
              "\n",
              "    .dataframe thead th {\n",
              "        text-align: right;\n",
              "    }\n",
              "</style>\n",
              "<table border=\"1\" class=\"dataframe\">\n",
              "  <thead>\n",
              "    <tr style=\"text-align: right;\">\n",
              "      <th></th>\n",
              "      <th>index</th>\n",
              "      <th>longitude</th>\n",
              "      <th>latitude</th>\n",
              "      <th>housing_median_age</th>\n",
              "      <th>total_rooms</th>\n",
              "      <th>total_bedrooms</th>\n",
              "      <th>population</th>\n",
              "      <th>households</th>\n",
              "      <th>median_income</th>\n",
              "      <th>median_house_value</th>\n",
              "      <th>ocean_proximity</th>\n",
              "      <th>id</th>\n",
              "    </tr>\n",
              "  </thead>\n",
              "  <tbody>\n",
              "    <tr>\n",
              "      <th>8</th>\n",
              "      <td>8</td>\n",
              "      <td>-122.26</td>\n",
              "      <td>37.84</td>\n",
              "      <td>42.0</td>\n",
              "      <td>2555.0</td>\n",
              "      <td>665.0</td>\n",
              "      <td>1206.0</td>\n",
              "      <td>595.0</td>\n",
              "      <td>2.0804</td>\n",
              "      <td>226700.0</td>\n",
              "      <td>NEAR BAY</td>\n",
              "      <td>-122222.16</td>\n",
              "    </tr>\n",
              "    <tr>\n",
              "      <th>10</th>\n",
              "      <td>10</td>\n",
              "      <td>-122.26</td>\n",
              "      <td>37.85</td>\n",
              "      <td>52.0</td>\n",
              "      <td>2202.0</td>\n",
              "      <td>434.0</td>\n",
              "      <td>910.0</td>\n",
              "      <td>402.0</td>\n",
              "      <td>3.2031</td>\n",
              "      <td>281500.0</td>\n",
              "      <td>NEAR BAY</td>\n",
              "      <td>-122222.15</td>\n",
              "    </tr>\n",
              "    <tr>\n",
              "      <th>11</th>\n",
              "      <td>11</td>\n",
              "      <td>-122.26</td>\n",
              "      <td>37.85</td>\n",
              "      <td>52.0</td>\n",
              "      <td>3503.0</td>\n",
              "      <td>752.0</td>\n",
              "      <td>1504.0</td>\n",
              "      <td>734.0</td>\n",
              "      <td>3.2705</td>\n",
              "      <td>241800.0</td>\n",
              "      <td>NEAR BAY</td>\n",
              "      <td>-122222.15</td>\n",
              "    </tr>\n",
              "    <tr>\n",
              "      <th>12</th>\n",
              "      <td>12</td>\n",
              "      <td>-122.26</td>\n",
              "      <td>37.85</td>\n",
              "      <td>52.0</td>\n",
              "      <td>2491.0</td>\n",
              "      <td>474.0</td>\n",
              "      <td>1098.0</td>\n",
              "      <td>468.0</td>\n",
              "      <td>3.0750</td>\n",
              "      <td>213500.0</td>\n",
              "      <td>NEAR BAY</td>\n",
              "      <td>-122222.15</td>\n",
              "    </tr>\n",
              "    <tr>\n",
              "      <th>13</th>\n",
              "      <td>13</td>\n",
              "      <td>-122.26</td>\n",
              "      <td>37.84</td>\n",
              "      <td>52.0</td>\n",
              "      <td>696.0</td>\n",
              "      <td>191.0</td>\n",
              "      <td>345.0</td>\n",
              "      <td>174.0</td>\n",
              "      <td>2.6736</td>\n",
              "      <td>191300.0</td>\n",
              "      <td>NEAR BAY</td>\n",
              "      <td>-122222.16</td>\n",
              "    </tr>\n",
              "  </tbody>\n",
              "</table>\n",
              "</div>"
            ],
            "text/plain": [
              "    index  longitude  latitude  housing_median_age  total_rooms  \\\n",
              "8       8    -122.26     37.84                42.0       2555.0   \n",
              "10     10    -122.26     37.85                52.0       2202.0   \n",
              "11     11    -122.26     37.85                52.0       3503.0   \n",
              "12     12    -122.26     37.85                52.0       2491.0   \n",
              "13     13    -122.26     37.84                52.0        696.0   \n",
              "\n",
              "    total_bedrooms  population  households  median_income  median_house_value  \\\n",
              "8            665.0      1206.0       595.0         2.0804            226700.0   \n",
              "10           434.0       910.0       402.0         3.2031            281500.0   \n",
              "11           752.0      1504.0       734.0         3.2705            241800.0   \n",
              "12           474.0      1098.0       468.0         3.0750            213500.0   \n",
              "13           191.0       345.0       174.0         2.6736            191300.0   \n",
              "\n",
              "   ocean_proximity         id  \n",
              "8         NEAR BAY -122222.16  \n",
              "10        NEAR BAY -122222.15  \n",
              "11        NEAR BAY -122222.15  \n",
              "12        NEAR BAY -122222.15  \n",
              "13        NEAR BAY -122222.16  "
            ]
          },
          "execution_count": 16,
          "metadata": {},
          "output_type": "execute_result"
        }
      ]
    },
    {
      "cell_type": "markdown",
      "metadata": {
        "id": "-C8FmZ0wnv65"
      },
      "source": [
        "#### 3) sklearn의 train_test_split을 이용한 Train/Test set 나누기"
      ]
    },
    {
      "cell_type": "code",
      "metadata": {
        "id": "7HKS0HHBnv65",
        "outputId": "789c0e4f-50a0-4588-994c-48860f9ae1db"
      },
      "source": [
        "from sklearn.model_selection import train_test_split\n",
        "\n",
        "train_set, test_set = train_test_split(housing, test_size=0.2, random_state=42)\n",
        "print(len(train_set), \"train +\", len(test_set), \"test\")"
      ],
      "execution_count": null,
      "outputs": [
        {
          "name": "stdout",
          "output_type": "stream",
          "text": [
            "16512 train + 4128 test\n"
          ]
        }
      ]
    },
    {
      "cell_type": "markdown",
      "metadata": {
        "id": "pGEl-am-nv65"
      },
      "source": [
        "#### 4) sklearn의 StratifiedShuffleSplit을 이용한 Train/Test set 나누기\n",
        "\n",
        "Train/Test set이 모수에 대한 대표성을 가지고 편향이 없도록 표본추출될 수 있도록 계층마다 샘플링을 하는 계층적 샘플링(stratified sampling)을 사용"
      ]
    },
    {
      "cell_type": "code",
      "metadata": {
        "id": "t6YaJnf_nv65",
        "outputId": "00d44c1c-cc1b-45f9-eac6-7897d5c739be"
      },
      "source": [
        "housing['median_income']"
      ],
      "execution_count": null,
      "outputs": [
        {
          "data": {
            "text/plain": [
              "0        8.3252\n",
              "1        8.3014\n",
              "2        7.2574\n",
              "3        5.6431\n",
              "4        3.8462\n",
              "          ...  \n",
              "20635    1.5603\n",
              "20636    2.5568\n",
              "20637    1.7000\n",
              "20638    1.8672\n",
              "20639    2.3886\n",
              "Name: median_income, Length: 20640, dtype: float64"
            ]
          },
          "execution_count": 18,
          "metadata": {},
          "output_type": "execute_result"
        }
      ]
    },
    {
      "cell_type": "code",
      "metadata": {
        "id": "XeSv7Iy_nv65",
        "outputId": "6eedd8c8-8d3d-4ec8-9871-e8adbd2b983e"
      },
      "source": [
        "housing['median_income'].hist();"
      ],
      "execution_count": null,
      "outputs": [
        {
          "data": {
            "image/png": "[encoded data removed]",
            "text/plain": [
              "<Figure size 432x288 with 1 Axes>"
            ]
          },
          "metadata": {},
          "output_type": "display_data"
        }
      ]
    },
    {
      "cell_type": "code",
      "metadata": {
        "id": "_KjHobKcnv66"
      },
      "source": [
        "housing['income_cat'] = np.ceil(housing['median_income'] / 1.5)   # 소득 범주의 수를 제한하기 위해 1.5로 나눠줌\n",
        "                                                                  # 이산형 범주를 갖기 위해 올림 처리 해줌\n",
        "housing['income_cat'].where(housing['income_cat'] < 5, 5.0, inplace=True)   # 범주를 총 5개로 병합"
      ],
      "execution_count": null,
      "outputs": []
    },
    {
      "cell_type": "code",
      "metadata": {
        "id": "nOlpY_4xnv66",
        "outputId": "c56633dd-9689-4928-f725-733f027e7620"
      },
      "source": [
        "housing[\"income_cat\"].value_counts()"
      ],
      "execution_count": null,
      "outputs": [
        {
          "data": {
            "text/plain": [
              "3.0    7236\n",
              "2.0    6581\n",
              "4.0    3639\n",
              "5.0    2362\n",
              "1.0     822\n",
              "Name: income_cat, dtype: int64"
            ]
          },
          "execution_count": 21,
          "metadata": {},
          "output_type": "execute_result"
        }
      ]
    },
    {
      "cell_type": "code",
      "metadata": {
        "id": "GHekXr4knv66",
        "outputId": "dc7a46f1-0207-430b-838e-ec87a55e80f9"
      },
      "source": [
        "housing[\"income_cat\"].hist()"
      ],
      "execution_count": null,
      "outputs": [
        {
          "data": {
            "text/plain": [
              "<AxesSubplot:>"
            ]
          },
          "execution_count": 22,
          "metadata": {},
          "output_type": "execute_result"
        },
        {
          "data": {
            "image/png": "[encoded data removed]",
            "text/plain": [
              "<Figure size 432x288 with 1 Axes>"
            ]
          },
          "metadata": {},
          "output_type": "display_data"
        }
      ]
    },
    {
      "cell_type": "code",
      "metadata": {
        "id": "UL9eiO7unv66"
      },
      "source": [
        "from sklearn.model_selection import StratifiedShuffleSplit   # 층화표본추출 시행\n",
        "\n",
        "split = StratifiedShuffleSplit(n_splits=1, test_size=0.2, random_state=42)   # train과 test로 한 번만 분할하기 때문에 n_splits=1\n",
        "for train_index, test_index in split.split(housing, housing['income_cat']):   # income_cat의 비율을 반영해 분할\n",
        "    strat_train_set = housing.loc[train_index]\n",
        "    strat_test_set = housing.loc[test_index]"
      ],
      "execution_count": null,
      "outputs": []
    },
    {
      "cell_type": "code",
      "metadata": {
        "id": "-uFGsvj_nv66",
        "outputId": "215f2bc4-f6a3-46d4-9759-fac3e8383345"
      },
      "source": [
        "display(housing['income_cat'].value_counts() / len(housing))   # full data에서의 수입 카테고리 비중\n",
        "print('='*20)\n",
        "display(strat_test_set['income_cat'].value_counts() / len(strat_test_set))   # 계층별로 나눈 data(stratified sampling)에서의 수입 카테고리 비중"
      ],
      "execution_count": null,
      "outputs": [
        {
          "data": {
            "text/plain": [
              "3.0    0.350581\n",
              "2.0    0.318847\n",
              "4.0    0.176308\n",
              "5.0    0.114438\n",
              "1.0    0.039826\n",
              "Name: income_cat, dtype: float64"
            ]
          },
          "metadata": {},
          "output_type": "display_data"
        },
        {
          "name": "stdout",
          "output_type": "stream",
          "text": [
            "====================\n"
          ]
        },
        {
          "data": {
            "text/plain": [
              "3.0    0.350533\n",
              "2.0    0.318798\n",
              "4.0    0.176357\n",
              "5.0    0.114583\n",
              "1.0    0.039729\n",
              "Name: income_cat, dtype: float64"
            ]
          },
          "metadata": {},
          "output_type": "display_data"
        }
      ]
    },
    {
      "cell_type": "code",
      "metadata": {
        "id": "uzPDVOMCnv66"
      },
      "source": [
        "def income_cat_proportions(data):\n",
        "    return data[\"income_cat\"].value_counts() / len(data)\n",
        "\n",
        "train_set, test_set = train_test_split(housing, test_size=0.2, random_state=42)\n",
        "\n",
        "compare_props = pd.DataFrame({\n",
        "    \"Overall\": income_cat_proportions(housing),\n",
        "    \"Stratified\": income_cat_proportions(strat_test_set),\n",
        "    \"Random\": income_cat_proportions(test_set),\n",
        "}).sort_index()\n",
        "compare_props[\"Rand. %error\"] = 100 * compare_props[\"Random\"] / compare_props[\"Overall\"] - 100\n",
        "compare_props[\"Strat. %error\"] = 100 * compare_props[\"Stratified\"] / compare_props[\"Overall\"] - 100"
      ],
      "execution_count": null,
      "outputs": []
    },
    {
      "cell_type": "code",
      "metadata": {
        "id": "_o9unH0Qnv66",
        "outputId": "acc94ed2-5f4e-42ab-9551-e9f6c5000157"
      },
      "source": [
        "compare_props"
      ],
      "execution_count": null,
      "outputs": [
        {
          "data": {
            "text/html": [
              "<div>\n",
              "<style scoped>\n",
              "    .dataframe tbody tr th:only-of-type {\n",
              "        vertical-align: middle;\n",
              "    }\n",
              "\n",
              "    .dataframe tbody tr th {\n",
              "        vertical-align: top;\n",
              "    }\n",
              "\n",
              "    .dataframe thead th {\n",
              "        text-align: right;\n",
              "    }\n",
              "</style>\n",
              "<table border=\"1\" class=\"dataframe\">\n",
              "  <thead>\n",
              "    <tr style=\"text-align: right;\">\n",
              "      <th></th>\n",
              "      <th>Overall</th>\n",
              "      <th>Stratified</th>\n",
              "      <th>Random</th>\n",
              "      <th>Rand. %error</th>\n",
              "      <th>Strat. %error</th>\n",
              "    </tr>\n",
              "  </thead>\n",
              "  <tbody>\n",
              "    <tr>\n",
              "      <th>1.0</th>\n",
              "      <td>0.039826</td>\n",
              "      <td>0.039729</td>\n",
              "      <td>0.040213</td>\n",
              "      <td>0.973236</td>\n",
              "      <td>-0.243309</td>\n",
              "    </tr>\n",
              "    <tr>\n",
              "      <th>2.0</th>\n",
              "      <td>0.318847</td>\n",
              "      <td>0.318798</td>\n",
              "      <td>0.324370</td>\n",
              "      <td>1.732260</td>\n",
              "      <td>-0.015195</td>\n",
              "    </tr>\n",
              "    <tr>\n",
              "      <th>3.0</th>\n",
              "      <td>0.350581</td>\n",
              "      <td>0.350533</td>\n",
              "      <td>0.358527</td>\n",
              "      <td>2.266446</td>\n",
              "      <td>-0.013820</td>\n",
              "    </tr>\n",
              "    <tr>\n",
              "      <th>4.0</th>\n",
              "      <td>0.176308</td>\n",
              "      <td>0.176357</td>\n",
              "      <td>0.167393</td>\n",
              "      <td>-5.056334</td>\n",
              "      <td>0.027480</td>\n",
              "    </tr>\n",
              "    <tr>\n",
              "      <th>5.0</th>\n",
              "      <td>0.114438</td>\n",
              "      <td>0.114583</td>\n",
              "      <td>0.109496</td>\n",
              "      <td>-4.318374</td>\n",
              "      <td>0.127011</td>\n",
              "    </tr>\n",
              "  </tbody>\n",
              "</table>\n",
              "</div>"
            ],
            "text/plain": [
              "      Overall  Stratified    Random  Rand. %error  Strat. %error\n",
              "1.0  0.039826    0.039729  0.040213      0.973236      -0.243309\n",
              "2.0  0.318847    0.318798  0.324370      1.732260      -0.015195\n",
              "3.0  0.350581    0.350533  0.358527      2.266446      -0.013820\n",
              "4.0  0.176308    0.176357  0.167393     -5.056334       0.027480\n",
              "5.0  0.114438    0.114583  0.109496     -4.318374       0.127011"
            ]
          },
          "execution_count": 26,
          "metadata": {},
          "output_type": "execute_result"
        }
      ]
    },
    {
      "cell_type": "markdown",
      "metadata": {
        "id": "ZO3Bq0V3nv66"
      },
      "source": [
        "random과 stratified 표본 추출을 비교해봤을 때 stratified 방법이 full dataset과 거의 일치하는 반면 random 방법은 상당히 skewed함을 알 수 있다."
      ]
    },
    {
      "cell_type": "code",
      "metadata": {
        "id": "BQ1a--bdnv66"
      },
      "source": [
        "# 분석에 필요없는 'income_cat' Column 삭제\n",
        "for set_ in (strat_train_set, strat_test_set):\n",
        "    set_.drop(\"income_cat\", axis=1, inplace=True)"
      ],
      "execution_count": null,
      "outputs": []
    },
    {
      "cell_type": "markdown",
      "metadata": {
        "id": "0XBg8qn6nv66"
      },
      "source": [
        "## Discover and Visualize the Data to Gain Insights\n",
        "\n",
        "1. training set만을 탐구\n",
        "\n",
        "2. training set이 너무 크다면 exploration set을 표본추출"
      ]
    },
    {
      "cell_type": "code",
      "metadata": {
        "id": "BQOrsZF5nv66"
      },
      "source": [
        "# Train set에 대해서만 진행\n",
        "housing = strat_train_set.copy()"
      ],
      "execution_count": null,
      "outputs": []
    },
    {
      "cell_type": "markdown",
      "metadata": {
        "id": "K3yhDTGlnv67"
      },
      "source": [
        "### 1) Visualizing Geographical Data"
      ]
    },
    {
      "cell_type": "code",
      "metadata": {
        "id": "IIECGTRXnv67",
        "outputId": "313e1aa0-8ca5-48b2-8e8d-7c038218aaba"
      },
      "source": [
        "ax = housing.plot(kind='scatter', x='longitude', y='latitude')\n",
        "ax.set(xlabel='longtitude', ylabel='latitude');"
      ],
      "execution_count": null,
      "outputs": [
        {
          "name": "stderr",
          "output_type": "stream",
          "text": [
            "*c* argument looks like a single numeric RGB or RGBA sequence, which should be avoided as value-mapping will have precedence in case its length matches with *x* & *y*.  Please use the *color* keyword-argument or provide a 2-D array with a single row if you intend to specify the same RGB or RGBA value for all points.\n"
          ]
        },
        {
          "data": {
            "image/png": "[encoded data removed]",
            "text/plain": [
              "<Figure size 432x288 with 1 Axes>"
            ]
          },
          "metadata": {},
          "output_type": "display_data"
        }
      ]
    },
    {
      "cell_type": "markdown",
      "metadata": {
        "id": "CWJ1udfLnv67"
      },
      "source": [
        "위도와 경도를 시각화해 캘리포니아 주의 모양을 나타낼 수 있지만 어떤 특정한 패턴을 찾기 어려움\n",
        "\n",
        "- 투명도를 조절해 data의 밀도를 파악해보자"
      ]
    },
    {
      "cell_type": "code",
      "metadata": {
        "id": "zSfX-Mc_nv67",
        "outputId": "560a0072-852a-4889-9248-bf27911e687c"
      },
      "source": [
        "ax = housing.plot(kind=\"scatter\", x=\"longitude\", y=\"latitude\", alpha=0.1)\n",
        "ax.set(xlabel='longtitude', ylabel='latitude')"
      ],
      "execution_count": null,
      "outputs": [
        {
          "name": "stderr",
          "output_type": "stream",
          "text": [
            "*c* argument looks like a single numeric RGB or RGBA sequence, which should be avoided as value-mapping will have precedence in case its length matches with *x* & *y*.  Please use the *color* keyword-argument or provide a 2-D array with a single row if you intend to specify the same RGB or RGBA value for all points.\n"
          ]
        },
        {
          "data": {
            "text/plain": [
              "[Text(0.5, 0, 'longtitude'), Text(0, 0.5, 'latitude')]"
            ]
          },
          "execution_count": 30,
          "metadata": {},
          "output_type": "execute_result"
        },
        {
          "data": {
            "image/png": "[encoded data removed]",
            "text/plain": [
              "<Figure size 432x288 with 1 Axes>"
            ]
          },
          "metadata": {},
          "output_type": "display_data"
        }
      ]
    },
    {
      "cell_type": "code",
      "metadata": {
        "id": "9dbE_z4jnv67",
        "outputId": "dac436f2-5c97-471a-f3b8-aa9e6f43b113"
      },
      "source": [
        "ax = housing.plot(kind=\"scatter\", x=\"longitude\", y=\"latitude\", alpha=0.4,\n",
        "    s=housing[\"population\"]/100, label=\"population\", figsize=(10,7),   # 동그라미 크기=인구\n",
        "    c=\"median_house_value\", cmap=plt.get_cmap(\"jet\"), colorbar=True,   # 색깔=가격(파랑-낮은가격 ~ 빨강-높은가격, color map 사용\n",
        "    sharex=False)\n",
        "ax.set(xlabel='longitude', ylabel='latitude')\n",
        "plt.legend()"
      ],
      "execution_count": null,
      "outputs": [
        {
          "data": {
            "text/plain": [
              "<matplotlib.legend.Legend at 0x20fbc1b5eb0>"
            ]
          },
          "execution_count": 31,
          "metadata": {},
          "output_type": "execute_result"
        },
        {
          "data": {
            "image/png": "[encoded data removed]",
            "text/plain": [
              "<Figure size 720x504 with 2 Axes>"
            ]
          },
          "metadata": {},
          "output_type": "display_data"
        }
      ]
    },
    {
      "cell_type": "markdown",
      "metadata": {
        "id": "pOAtgkLSnv67"
      },
      "source": [
        "- 주택 가격은 지역에 관계되어 나타남을 알 수 있음 (ex. 바다에 가까우면 주택 가격이 높음)\n",
        "\n",
        "- clustering 알고리즘을 사용해 main clusters를 찾는 것이 유용할 수 있음\n",
        "\n",
        "- cluster의 centers와 가까운 정도를 측정하는 새로운 특성 변수를 추가해야 함\n",
        "\n",
        "- 비록 북부 캘리포니아는 바다에 가까워도 주택 가격이 높지 않지만 ocean proximity 속성도 유용할 것"
      ]
    },
    {
      "cell_type": "markdown",
      "metadata": {
        "id": "ig9FAPxsnv67"
      },
      "source": [
        "### 2) Looking for Correlations\n",
        "\n",
        "- 자료가 그렇게 크지 않기 때문에 모든 속성 간의 상관계수(r)를 쉽게 구할 수 있음"
      ]
    },
    {
      "cell_type": "code",
      "metadata": {
        "id": "VjRCMmJGnv67",
        "outputId": "02d63b4e-0704-4a4b-d907-03f74fd11456"
      },
      "source": [
        "corr_matrix = housing.corr()\n",
        "corr_matrix[\"median_house_value\"].sort_values(ascending=False)\n",
        "# 중간 주택 가격과의 상관계수 확인"
      ],
      "execution_count": null,
      "outputs": [
        {
          "data": {
            "text/plain": [
              "median_house_value    1.000000\n",
              "median_income         0.687160\n",
              "total_rooms           0.135097\n",
              "housing_median_age    0.114110\n",
              "households            0.064506\n",
              "total_bedrooms        0.047689\n",
              "population           -0.026920\n",
              "longitude            -0.047432\n",
              "latitude             -0.142724\n",
              "Name: median_house_value, dtype: float64"
            ]
          },
          "execution_count": 32,
          "metadata": {},
          "output_type": "execute_result"
        }
      ]
    },
    {
      "cell_type": "code",
      "metadata": {
        "id": "LW5ty2wGnv67",
        "outputId": "8178ec1c-bc93-439b-e7b3-bca058a1090f"
      },
      "source": [
        "from pandas.plotting import scatter_matrix\n",
        "\n",
        "attributes = [\"median_house_value\", \"median_income\", \"total_rooms\",\n",
        "              \"housing_median_age\"]   # 특정 4 변수만을 골라 서로간의 상관계수를 pandas를 활용해 확인(4X4). 전부 확인하기에는 변수가 너무 많음\n",
        "scatter_matrix(housing[attributes], figsize=(12, 8));"
      ],
      "execution_count": null,
      "outputs": [
        {
          "name": "stderr",
          "output_type": "stream",
          "text": [
            "findfont: Font family ['NanumBarunGothic'] not found. Falling back to DejaVu Sans.\n"
          ]
        },
        {
          "data": {
            "image/png": "[encoded data removed]",
            "text/plain": [
              "<Figure size 864x576 with 16 Axes>"
            ]
          },
          "metadata": {},
          "output_type": "display_data"
        }
      ]
    },
    {
      "cell_type": "code",
      "metadata": {
        "id": "rugizgTDnv67",
        "outputId": "3f727e8d-5cbe-4267-8ea7-a6204f5911ef"
      },
      "source": [
        "housing.plot(kind=\"scatter\", x=\"median_income\", y=\"median_house_value\",\n",
        "             alpha=0.1)   # 가장 유력한 변수인 중위소득의 산점도를 확인\n",
        "plt.axis([0, 16, 0, 550000]);"
      ],
      "execution_count": null,
      "outputs": [
        {
          "name": "stderr",
          "output_type": "stream",
          "text": [
            "*c* argument looks like a single numeric RGB or RGBA sequence, which should be avoided as value-mapping will have precedence in case its length matches with *x* & *y*.  Please use the *color* keyword-argument or provide a 2-D array with a single row if you intend to specify the same RGB or RGBA value for all points.\n"
          ]
        },
        {
          "data": {
            "image/png": "[encoded data removed]",
            "text/plain": [
              "<Figure size 432x288 with 1 Axes>"
            ]
          },
          "metadata": {},
          "output_type": "display_data"
        }
      ]
    },
    {
      "cell_type": "markdown",
      "metadata": {
        "id": "inbFeRzYnv67"
      },
      "source": [
        "1. 상관관계가 매우 강함: 많이 퍼져 있지 않고 우상향한 그림\n",
        "\n",
        "2. 우리가 초기에 발견한 price cap이 500,000 달러 부근에서 수평선으로 나타남\n",
        "\n",
        "3. 450,000 달러와 350,000 달러, 280,000 달러 부근에도 희미하지만 수평선이 나타남"
      ]
    },
    {
      "cell_type": "markdown",
      "metadata": {
        "id": "--1k9DgEnv68"
      },
      "source": [
        "### 3) Experimenting with Attribute Combinations\n",
        "\n",
        "독립적으로는 유용하지 않은 변수들을 각각의 조합을 통해 쓰임새 있는 새로운 속성을 생성"
      ]
    },
    {
      "cell_type": "code",
      "metadata": {
        "id": "nYYxKkRJnv68"
      },
      "source": [
        "housing['rooms_per_household'] = housing['total_rooms'] / housing['households']\n",
        "housing['bedrooms_per_room'] = housing['total_bedrooms'] / housing['total_rooms']\n",
        "housing['population_per_household'] = housing['population'] / housing['households']"
      ],
      "execution_count": null,
      "outputs": []
    },
    {
      "cell_type": "code",
      "metadata": {
        "id": "8U7J1l1Hnv68",
        "outputId": "2820c8e1-c7a3-402a-9bd4-df888703a3f2"
      },
      "source": [
        "corr_matrix = housing.corr()\n",
        "corr_matrix[\"median_house_value\"].sort_values(ascending=False)"
      ],
      "execution_count": null,
      "outputs": [
        {
          "data": {
            "text/plain": [
              "median_house_value          1.000000\n",
              "median_income               0.687160\n",
              "rooms_per_household         0.146285\n",
              "total_rooms                 0.135097\n",
              "housing_median_age          0.114110\n",
              "households                  0.064506\n",
              "total_bedrooms              0.047689\n",
              "population_per_household   -0.021985\n",
              "population                 -0.026920\n",
              "longitude                  -0.047432\n",
              "latitude                   -0.142724\n",
              "bedrooms_per_room          -0.259984\n",
              "Name: median_house_value, dtype: float64"
            ]
          },
          "execution_count": 36,
          "metadata": {},
          "output_type": "execute_result"
        }
      ]
    },
    {
      "cell_type": "markdown",
      "metadata": {
        "id": "04fGPBjQnv68"
      },
      "source": [
        "- bedrooms_per_room 변수가 total_bedrooms 변수보다 높은 상관관계를 보여줌: 전체 방에서 침실의 비중이 적으면 당연히 그 집은 비싼 경향을 보임 (음의 상관관계)\n",
        "\n",
        "- rooms_per_household 변수도 total_rooms 변수보다 더 informative: 집이 클수록 비싼 것은 당연함"
      ]
    },
    {
      "cell_type": "markdown",
      "metadata": {
        "id": "2lxaHIqinv68"
      },
      "source": [
        "## Prepare the Data for Machine Learning Algorithms"
      ]
    },
    {
      "cell_type": "code",
      "metadata": {
        "id": "q1FqCM6cnv68"
      },
      "source": [
        "housing = strat_train_set.drop('median_house_value', axis=1)   # predictors\n",
        "housing_labels = strat_train_set['median_house_value'].copy()   # labels"
      ],
      "execution_count": null,
      "outputs": []
    },
    {
      "cell_type": "code",
      "metadata": {
        "scrolled": true,
        "id": "xT_0K9cfnv68",
        "outputId": "b8982350-20e8-4bbb-f11c-da8ff22fd218"
      },
      "source": [
        "housing.head()"
      ],
      "execution_count": null,
      "outputs": [
        {
          "data": {
            "text/html": [
              "<div>\n",
              "<style scoped>\n",
              "    .dataframe tbody tr th:only-of-type {\n",
              "        vertical-align: middle;\n",
              "    }\n",
              "\n",
              "    .dataframe tbody tr th {\n",
              "        vertical-align: top;\n",
              "    }\n",
              "\n",
              "    .dataframe thead th {\n",
              "        text-align: right;\n",
              "    }\n",
              "</style>\n",
              "<table border=\"1\" class=\"dataframe\">\n",
              "  <thead>\n",
              "    <tr style=\"text-align: right;\">\n",
              "      <th></th>\n",
              "      <th>longitude</th>\n",
              "      <th>latitude</th>\n",
              "      <th>housing_median_age</th>\n",
              "      <th>total_rooms</th>\n",
              "      <th>total_bedrooms</th>\n",
              "      <th>population</th>\n",
              "      <th>households</th>\n",
              "      <th>median_income</th>\n",
              "      <th>ocean_proximity</th>\n",
              "    </tr>\n",
              "  </thead>\n",
              "  <tbody>\n",
              "    <tr>\n",
              "      <th>17606</th>\n",
              "      <td>-121.89</td>\n",
              "      <td>37.29</td>\n",
              "      <td>38.0</td>\n",
              "      <td>1568.0</td>\n",
              "      <td>351.0</td>\n",
              "      <td>710.0</td>\n",
              "      <td>339.0</td>\n",
              "      <td>2.7042</td>\n",
              "      <td>&lt;1H OCEAN</td>\n",
              "    </tr>\n",
              "    <tr>\n",
              "      <th>18632</th>\n",
              "      <td>-121.93</td>\n",
              "      <td>37.05</td>\n",
              "      <td>14.0</td>\n",
              "      <td>679.0</td>\n",
              "      <td>108.0</td>\n",
              "      <td>306.0</td>\n",
              "      <td>113.0</td>\n",
              "      <td>6.4214</td>\n",
              "      <td>&lt;1H OCEAN</td>\n",
              "    </tr>\n",
              "    <tr>\n",
              "      <th>14650</th>\n",
              "      <td>-117.20</td>\n",
              "      <td>32.77</td>\n",
              "      <td>31.0</td>\n",
              "      <td>1952.0</td>\n",
              "      <td>471.0</td>\n",
              "      <td>936.0</td>\n",
              "      <td>462.0</td>\n",
              "      <td>2.8621</td>\n",
              "      <td>NEAR OCEAN</td>\n",
              "    </tr>\n",
              "    <tr>\n",
              "      <th>3230</th>\n",
              "      <td>-119.61</td>\n",
              "      <td>36.31</td>\n",
              "      <td>25.0</td>\n",
              "      <td>1847.0</td>\n",
              "      <td>371.0</td>\n",
              "      <td>1460.0</td>\n",
              "      <td>353.0</td>\n",
              "      <td>1.8839</td>\n",
              "      <td>INLAND</td>\n",
              "    </tr>\n",
              "    <tr>\n",
              "      <th>3555</th>\n",
              "      <td>-118.59</td>\n",
              "      <td>34.23</td>\n",
              "      <td>17.0</td>\n",
              "      <td>6592.0</td>\n",
              "      <td>1525.0</td>\n",
              "      <td>4459.0</td>\n",
              "      <td>1463.0</td>\n",
              "      <td>3.0347</td>\n",
              "      <td>&lt;1H OCEAN</td>\n",
              "    </tr>\n",
              "  </tbody>\n",
              "</table>\n",
              "</div>"
            ],
            "text/plain": [
              "       longitude  latitude  housing_median_age  total_rooms  total_bedrooms  \\\n",
              "17606    -121.89     37.29                38.0       1568.0           351.0   \n",
              "18632    -121.93     37.05                14.0        679.0           108.0   \n",
              "14650    -117.20     32.77                31.0       1952.0           471.0   \n",
              "3230     -119.61     36.31                25.0       1847.0           371.0   \n",
              "3555     -118.59     34.23                17.0       6592.0          1525.0   \n",
              "\n",
              "       population  households  median_income ocean_proximity  \n",
              "17606       710.0       339.0         2.7042       <1H OCEAN  \n",
              "18632       306.0       113.0         6.4214       <1H OCEAN  \n",
              "14650       936.0       462.0         2.8621      NEAR OCEAN  \n",
              "3230       1460.0       353.0         1.8839          INLAND  \n",
              "3555       4459.0      1463.0         3.0347       <1H OCEAN  "
            ]
          },
          "execution_count": 38,
          "metadata": {},
          "output_type": "execute_result"
        }
      ]
    },
    {
      "cell_type": "code",
      "metadata": {
        "id": "44cFgXYNnv68",
        "outputId": "38b9308f-f19a-45fb-daaa-00a7acd363af"
      },
      "source": [
        "housing_labels"
      ],
      "execution_count": null,
      "outputs": [
        {
          "data": {
            "text/plain": [
              "17606    286600.0\n",
              "18632    340600.0\n",
              "14650    196900.0\n",
              "3230      46300.0\n",
              "3555     254500.0\n",
              "           ...   \n",
              "6563     240200.0\n",
              "12053    113000.0\n",
              "13908     97800.0\n",
              "11159    225900.0\n",
              "15775    500001.0\n",
              "Name: median_house_value, Length: 16512, dtype: float64"
            ]
          },
          "execution_count": 39,
          "metadata": {},
          "output_type": "execute_result"
        }
      ]
    },
    {
      "cell_type": "markdown",
      "metadata": {
        "id": "XQ4qsc7Nnv68"
      },
      "source": [
        "### 1) Data Cleaning\n",
        "\n",
        "- 결측값이 있으면 대부분의 머신러닝 알고리즘은 작동하지 않음\n",
        "\n",
        "- 이를 관리하기 위해 세 가지 방법이 있음\n",
        "\n",
        "1. 관련 구역을 제거: dropna()\n",
        "\n",
        "2. 전체 변수를 제거: drop()\n",
        "\n",
        "3. 어떤 값으로 채움: fillna()  ex) 0, 평균, 중위수 등등"
      ]
    },
    {
      "cell_type": "code",
      "metadata": {
        "id": "1RP3GgNnnv68",
        "outputId": "d00874e8-ae59-4349-a83c-8f23fbbec575"
      },
      "source": [
        "sample_incomplete_rows = housing[housing.isnull().any(axis=1)].head()\n",
        "sample_incomplete_rows\n",
        "# 결측값 있는 행 불러들이기"
      ],
      "execution_count": null,
      "outputs": [
        {
          "data": {
            "text/html": [
              "<div>\n",
              "<style scoped>\n",
              "    .dataframe tbody tr th:only-of-type {\n",
              "        vertical-align: middle;\n",
              "    }\n",
              "\n",
              "    .dataframe tbody tr th {\n",
              "        vertical-align: top;\n",
              "    }\n",
              "\n",
              "    .dataframe thead th {\n",
              "        text-align: right;\n",
              "    }\n",
              "</style>\n",
              "<table border=\"1\" class=\"dataframe\">\n",
              "  <thead>\n",
              "    <tr style=\"text-align: right;\">\n",
              "      <th></th>\n",
              "      <th>longitude</th>\n",
              "      <th>latitude</th>\n",
              "      <th>housing_median_age</th>\n",
              "      <th>total_rooms</th>\n",
              "      <th>total_bedrooms</th>\n",
              "      <th>population</th>\n",
              "      <th>households</th>\n",
              "      <th>median_income</th>\n",
              "      <th>ocean_proximity</th>\n",
              "    </tr>\n",
              "  </thead>\n",
              "  <tbody>\n",
              "    <tr>\n",
              "      <th>4629</th>\n",
              "      <td>-118.30</td>\n",
              "      <td>34.07</td>\n",
              "      <td>18.0</td>\n",
              "      <td>3759.0</td>\n",
              "      <td>NaN</td>\n",
              "      <td>3296.0</td>\n",
              "      <td>1462.0</td>\n",
              "      <td>2.2708</td>\n",
              "      <td>&lt;1H OCEAN</td>\n",
              "    </tr>\n",
              "    <tr>\n",
              "      <th>6068</th>\n",
              "      <td>-117.86</td>\n",
              "      <td>34.01</td>\n",
              "      <td>16.0</td>\n",
              "      <td>4632.0</td>\n",
              "      <td>NaN</td>\n",
              "      <td>3038.0</td>\n",
              "      <td>727.0</td>\n",
              "      <td>5.1762</td>\n",
              "      <td>&lt;1H OCEAN</td>\n",
              "    </tr>\n",
              "    <tr>\n",
              "      <th>17923</th>\n",
              "      <td>-121.97</td>\n",
              "      <td>37.35</td>\n",
              "      <td>30.0</td>\n",
              "      <td>1955.0</td>\n",
              "      <td>NaN</td>\n",
              "      <td>999.0</td>\n",
              "      <td>386.0</td>\n",
              "      <td>4.6328</td>\n",
              "      <td>&lt;1H OCEAN</td>\n",
              "    </tr>\n",
              "    <tr>\n",
              "      <th>13656</th>\n",
              "      <td>-117.30</td>\n",
              "      <td>34.05</td>\n",
              "      <td>6.0</td>\n",
              "      <td>2155.0</td>\n",
              "      <td>NaN</td>\n",
              "      <td>1039.0</td>\n",
              "      <td>391.0</td>\n",
              "      <td>1.6675</td>\n",
              "      <td>INLAND</td>\n",
              "    </tr>\n",
              "    <tr>\n",
              "      <th>19252</th>\n",
              "      <td>-122.79</td>\n",
              "      <td>38.48</td>\n",
              "      <td>7.0</td>\n",
              "      <td>6837.0</td>\n",
              "      <td>NaN</td>\n",
              "      <td>3468.0</td>\n",
              "      <td>1405.0</td>\n",
              "      <td>3.1662</td>\n",
              "      <td>&lt;1H OCEAN</td>\n",
              "    </tr>\n",
              "  </tbody>\n",
              "</table>\n",
              "</div>"
            ],
            "text/plain": [
              "       longitude  latitude  housing_median_age  total_rooms  total_bedrooms  \\\n",
              "4629     -118.30     34.07                18.0       3759.0             NaN   \n",
              "6068     -117.86     34.01                16.0       4632.0             NaN   \n",
              "17923    -121.97     37.35                30.0       1955.0             NaN   \n",
              "13656    -117.30     34.05                 6.0       2155.0             NaN   \n",
              "19252    -122.79     38.48                 7.0       6837.0             NaN   \n",
              "\n",
              "       population  households  median_income ocean_proximity  \n",
              "4629       3296.0      1462.0         2.2708       <1H OCEAN  \n",
              "6068       3038.0       727.0         5.1762       <1H OCEAN  \n",
              "17923       999.0       386.0         4.6328       <1H OCEAN  \n",
              "13656      1039.0       391.0         1.6675          INLAND  \n",
              "19252      3468.0      1405.0         3.1662       <1H OCEAN  "
            ]
          },
          "execution_count": 40,
          "metadata": {},
          "output_type": "execute_result"
        }
      ]
    },
    {
      "cell_type": "code",
      "metadata": {
        "id": "ZIrbUZyynv68",
        "outputId": "2df533d9-c1f5-4ace-b67c-7961d4e3cafd"
      },
      "source": [
        "# 방법1: null값 삭제 -> dropna()\n",
        "sample_incomplete_rows.dropna(subset=['total_bedrooms'])"
      ],
      "execution_count": null,
      "outputs": [
        {
          "data": {
            "text/html": [
              "<div>\n",
              "<style scoped>\n",
              "    .dataframe tbody tr th:only-of-type {\n",
              "        vertical-align: middle;\n",
              "    }\n",
              "\n",
              "    .dataframe tbody tr th {\n",
              "        vertical-align: top;\n",
              "    }\n",
              "\n",
              "    .dataframe thead th {\n",
              "        text-align: right;\n",
              "    }\n",
              "</style>\n",
              "<table border=\"1\" class=\"dataframe\">\n",
              "  <thead>\n",
              "    <tr style=\"text-align: right;\">\n",
              "      <th></th>\n",
              "      <th>longitude</th>\n",
              "      <th>latitude</th>\n",
              "      <th>housing_median_age</th>\n",
              "      <th>total_rooms</th>\n",
              "      <th>total_bedrooms</th>\n",
              "      <th>population</th>\n",
              "      <th>households</th>\n",
              "      <th>median_income</th>\n",
              "      <th>ocean_proximity</th>\n",
              "    </tr>\n",
              "  </thead>\n",
              "  <tbody>\n",
              "  </tbody>\n",
              "</table>\n",
              "</div>"
            ],
            "text/plain": [
              "Empty DataFrame\n",
              "Columns: [longitude, latitude, housing_median_age, total_rooms, total_bedrooms, population, households, median_income, ocean_proximity]\n",
              "Index: []"
            ]
          },
          "execution_count": 41,
          "metadata": {},
          "output_type": "execute_result"
        }
      ]
    },
    {
      "cell_type": "code",
      "metadata": {
        "id": "j3C4f2Yhnv68",
        "outputId": "46a176dc-5250-4915-995b-bf21b300c228"
      },
      "source": [
        "# 방법2: 전체 특성(total_bedrooms) 삭제 -> drop()\n",
        "sample_incomplete_rows.drop('total_bedrooms', axis=1)"
      ],
      "execution_count": null,
      "outputs": [
        {
          "data": {
            "text/html": [
              "<div>\n",
              "<style scoped>\n",
              "    .dataframe tbody tr th:only-of-type {\n",
              "        vertical-align: middle;\n",
              "    }\n",
              "\n",
              "    .dataframe tbody tr th {\n",
              "        vertical-align: top;\n",
              "    }\n",
              "\n",
              "    .dataframe thead th {\n",
              "        text-align: right;\n",
              "    }\n",
              "</style>\n",
              "<table border=\"1\" class=\"dataframe\">\n",
              "  <thead>\n",
              "    <tr style=\"text-align: right;\">\n",
              "      <th></th>\n",
              "      <th>longitude</th>\n",
              "      <th>latitude</th>\n",
              "      <th>housing_median_age</th>\n",
              "      <th>total_rooms</th>\n",
              "      <th>population</th>\n",
              "      <th>households</th>\n",
              "      <th>median_income</th>\n",
              "      <th>ocean_proximity</th>\n",
              "    </tr>\n",
              "  </thead>\n",
              "  <tbody>\n",
              "    <tr>\n",
              "      <th>4629</th>\n",
              "      <td>-118.30</td>\n",
              "      <td>34.07</td>\n",
              "      <td>18.0</td>\n",
              "      <td>3759.0</td>\n",
              "      <td>3296.0</td>\n",
              "      <td>1462.0</td>\n",
              "      <td>2.2708</td>\n",
              "      <td>&lt;1H OCEAN</td>\n",
              "    </tr>\n",
              "    <tr>\n",
              "      <th>6068</th>\n",
              "      <td>-117.86</td>\n",
              "      <td>34.01</td>\n",
              "      <td>16.0</td>\n",
              "      <td>4632.0</td>\n",
              "      <td>3038.0</td>\n",
              "      <td>727.0</td>\n",
              "      <td>5.1762</td>\n",
              "      <td>&lt;1H OCEAN</td>\n",
              "    </tr>\n",
              "    <tr>\n",
              "      <th>17923</th>\n",
              "      <td>-121.97</td>\n",
              "      <td>37.35</td>\n",
              "      <td>30.0</td>\n",
              "      <td>1955.0</td>\n",
              "      <td>999.0</td>\n",
              "      <td>386.0</td>\n",
              "      <td>4.6328</td>\n",
              "      <td>&lt;1H OCEAN</td>\n",
              "    </tr>\n",
              "    <tr>\n",
              "      <th>13656</th>\n",
              "      <td>-117.30</td>\n",
              "      <td>34.05</td>\n",
              "      <td>6.0</td>\n",
              "      <td>2155.0</td>\n",
              "      <td>1039.0</td>\n",
              "      <td>391.0</td>\n",
              "      <td>1.6675</td>\n",
              "      <td>INLAND</td>\n",
              "    </tr>\n",
              "    <tr>\n",
              "      <th>19252</th>\n",
              "      <td>-122.79</td>\n",
              "      <td>38.48</td>\n",
              "      <td>7.0</td>\n",
              "      <td>6837.0</td>\n",
              "      <td>3468.0</td>\n",
              "      <td>1405.0</td>\n",
              "      <td>3.1662</td>\n",
              "      <td>&lt;1H OCEAN</td>\n",
              "    </tr>\n",
              "  </tbody>\n",
              "</table>\n",
              "</div>"
            ],
            "text/plain": [
              "       longitude  latitude  housing_median_age  total_rooms  population  \\\n",
              "4629     -118.30     34.07                18.0       3759.0      3296.0   \n",
              "6068     -117.86     34.01                16.0       4632.0      3038.0   \n",
              "17923    -121.97     37.35                30.0       1955.0       999.0   \n",
              "13656    -117.30     34.05                 6.0       2155.0      1039.0   \n",
              "19252    -122.79     38.48                 7.0       6837.0      3468.0   \n",
              "\n",
              "       households  median_income ocean_proximity  \n",
              "4629       1462.0         2.2708       <1H OCEAN  \n",
              "6068        727.0         5.1762       <1H OCEAN  \n",
              "17923       386.0         4.6328       <1H OCEAN  \n",
              "13656       391.0         1.6675          INLAND  \n",
              "19252      1405.0         3.1662       <1H OCEAN  "
            ]
          },
          "execution_count": 42,
          "metadata": {},
          "output_type": "execute_result"
        }
      ]
    },
    {
      "cell_type": "code",
      "metadata": {
        "id": "t7wo9BdInv69",
        "outputId": "342aa1ae-fde2-4527-9bd4-23282531cf97"
      },
      "source": [
        "median = housing['total_bedrooms'].median()\n",
        "sample_incomplete_rows['total_bedrooms'].fillna(median, inplace=True)\n",
        "sample_incomplete_rows"
      ],
      "execution_count": null,
      "outputs": [
        {
          "data": {
            "text/html": [
              "<div>\n",
              "<style scoped>\n",
              "    .dataframe tbody tr th:only-of-type {\n",
              "        vertical-align: middle;\n",
              "    }\n",
              "\n",
              "    .dataframe tbody tr th {\n",
              "        vertical-align: top;\n",
              "    }\n",
              "\n",
              "    .dataframe thead th {\n",
              "        text-align: right;\n",
              "    }\n",
              "</style>\n",
              "<table border=\"1\" class=\"dataframe\">\n",
              "  <thead>\n",
              "    <tr style=\"text-align: right;\">\n",
              "      <th></th>\n",
              "      <th>longitude</th>\n",
              "      <th>latitude</th>\n",
              "      <th>housing_median_age</th>\n",
              "      <th>total_rooms</th>\n",
              "      <th>total_bedrooms</th>\n",
              "      <th>population</th>\n",
              "      <th>households</th>\n",
              "      <th>median_income</th>\n",
              "      <th>ocean_proximity</th>\n",
              "    </tr>\n",
              "  </thead>\n",
              "  <tbody>\n",
              "    <tr>\n",
              "      <th>4629</th>\n",
              "      <td>-118.30</td>\n",
              "      <td>34.07</td>\n",
              "      <td>18.0</td>\n",
              "      <td>3759.0</td>\n",
              "      <td>433.0</td>\n",
              "      <td>3296.0</td>\n",
              "      <td>1462.0</td>\n",
              "      <td>2.2708</td>\n",
              "      <td>&lt;1H OCEAN</td>\n",
              "    </tr>\n",
              "    <tr>\n",
              "      <th>6068</th>\n",
              "      <td>-117.86</td>\n",
              "      <td>34.01</td>\n",
              "      <td>16.0</td>\n",
              "      <td>4632.0</td>\n",
              "      <td>433.0</td>\n",
              "      <td>3038.0</td>\n",
              "      <td>727.0</td>\n",
              "      <td>5.1762</td>\n",
              "      <td>&lt;1H OCEAN</td>\n",
              "    </tr>\n",
              "    <tr>\n",
              "      <th>17923</th>\n",
              "      <td>-121.97</td>\n",
              "      <td>37.35</td>\n",
              "      <td>30.0</td>\n",
              "      <td>1955.0</td>\n",
              "      <td>433.0</td>\n",
              "      <td>999.0</td>\n",
              "      <td>386.0</td>\n",
              "      <td>4.6328</td>\n",
              "      <td>&lt;1H OCEAN</td>\n",
              "    </tr>\n",
              "    <tr>\n",
              "      <th>13656</th>\n",
              "      <td>-117.30</td>\n",
              "      <td>34.05</td>\n",
              "      <td>6.0</td>\n",
              "      <td>2155.0</td>\n",
              "      <td>433.0</td>\n",
              "      <td>1039.0</td>\n",
              "      <td>391.0</td>\n",
              "      <td>1.6675</td>\n",
              "      <td>INLAND</td>\n",
              "    </tr>\n",
              "    <tr>\n",
              "      <th>19252</th>\n",
              "      <td>-122.79</td>\n",
              "      <td>38.48</td>\n",
              "      <td>7.0</td>\n",
              "      <td>6837.0</td>\n",
              "      <td>433.0</td>\n",
              "      <td>3468.0</td>\n",
              "      <td>1405.0</td>\n",
              "      <td>3.1662</td>\n",
              "      <td>&lt;1H OCEAN</td>\n",
              "    </tr>\n",
              "  </tbody>\n",
              "</table>\n",
              "</div>"
            ],
            "text/plain": [
              "       longitude  latitude  housing_median_age  total_rooms  total_bedrooms  \\\n",
              "4629     -118.30     34.07                18.0       3759.0           433.0   \n",
              "6068     -117.86     34.01                16.0       4632.0           433.0   \n",
              "17923    -121.97     37.35                30.0       1955.0           433.0   \n",
              "13656    -117.30     34.05                 6.0       2155.0           433.0   \n",
              "19252    -122.79     38.48                 7.0       6837.0           433.0   \n",
              "\n",
              "       population  households  median_income ocean_proximity  \n",
              "4629       3296.0      1462.0         2.2708       <1H OCEAN  \n",
              "6068       3038.0       727.0         5.1762       <1H OCEAN  \n",
              "17923       999.0       386.0         4.6328       <1H OCEAN  \n",
              "13656      1039.0       391.0         1.6675          INLAND  \n",
              "19252      3468.0      1405.0         3.1662       <1H OCEAN  "
            ]
          },
          "execution_count": 43,
          "metadata": {},
          "output_type": "execute_result"
        }
      ]
    },
    {
      "cell_type": "code",
      "metadata": {
        "id": "xoiFrndqnv69",
        "outputId": "6958f7f1-153b-49da-f0d8-8eabba41a40b"
      },
      "source": [
        "from sklearn.impute import SimpleImputer  # Scikit-Learn은 결측값을 손쉽게 다룰 imputer를 제공\n",
        "\n",
        "housing_num = housing.drop('ocean_proximity', axis=1)   # numerical 변수만을 남김(median 측정 위해)\n",
        "\n",
        "imputer = SimpleImputer(strategy='median')   # imputer 생성\n",
        "imputer.fit(housing_num)   # training data에 imputer를 적용"
      ],
      "execution_count": null,
      "outputs": [
        {
          "data": {
            "text/plain": [
              "SimpleImputer(strategy='median')"
            ]
          },
          "execution_count": 44,
          "metadata": {},
          "output_type": "execute_result"
        }
      ]
    },
    {
      "cell_type": "code",
      "metadata": {
        "id": "-9yBrB22nv69",
        "outputId": "c2163f03-ee7d-4f86-e46b-d7a3e57cf1c9"
      },
      "source": [
        "print('imputer.statistics_ :', imputer.statistics_)\n",
        "print('housing_num.median().values :', housing_num.median().values)"
      ],
      "execution_count": null,
      "outputs": [
        {
          "name": "stdout",
          "output_type": "stream",
          "text": [
            "imputer.statistics_ : [-118.51     34.26     29.     2119.5     433.     1164.      408.\n",
            "    3.5409]\n",
            "housing_num.median().values : [-118.51     34.26     29.     2119.5     433.     1164.      408.\n",
            "    3.5409]\n"
          ]
        }
      ]
    },
    {
      "cell_type": "markdown",
      "metadata": {
        "id": "WnJzVgTenv69"
      },
      "source": [
        "- 각 특성변수의 중위수 계산해 statistics_라는 변수에 저장\n",
        "\n",
        "- total_bedrooms 변수에만 결측값이 있기는 하지만, 시스템 가동된 후의 새로운 자료에서 결측값이 없을거라고 확신할 수 없기 때문에 모든 numerical 변수에 대해 imputer를 사용하는 것이 안전함"
      ]
    },
    {
      "cell_type": "code",
      "metadata": {
        "id": "W8QVH6C7nv69",
        "outputId": "11feef99-f8bd-4ea7-f491-9e790acda3eb"
      },
      "source": [
        "X = imputer.transform(housing_num)   # imputer의 .transform()을 이용해 Training set의 누락된 값을 중앙값으로 바꿔줌\n",
        "\n",
        "# NumPy의 array이므로 다시 pandas.DataFrame으로 변환해준다.\n",
        "housing_tr = pd.DataFrame(X, columns=housing_num.columns,\n",
        "                          index=housing.index.values)\n",
        "\n",
        "# Null값이 median 값으로 잘 채워졌는지 확인\n",
        "housing_tr.loc[sample_incomplete_rows.index.values]"
      ],
      "execution_count": null,
      "outputs": [
        {
          "data": {
            "text/html": [
              "<div>\n",
              "<style scoped>\n",
              "    .dataframe tbody tr th:only-of-type {\n",
              "        vertical-align: middle;\n",
              "    }\n",
              "\n",
              "    .dataframe tbody tr th {\n",
              "        vertical-align: top;\n",
              "    }\n",
              "\n",
              "    .dataframe thead th {\n",
              "        text-align: right;\n",
              "    }\n",
              "</style>\n",
              "<table border=\"1\" class=\"dataframe\">\n",
              "  <thead>\n",
              "    <tr style=\"text-align: right;\">\n",
              "      <th></th>\n",
              "      <th>longitude</th>\n",
              "      <th>latitude</th>\n",
              "      <th>housing_median_age</th>\n",
              "      <th>total_rooms</th>\n",
              "      <th>total_bedrooms</th>\n",
              "      <th>population</th>\n",
              "      <th>households</th>\n",
              "      <th>median_income</th>\n",
              "    </tr>\n",
              "  </thead>\n",
              "  <tbody>\n",
              "    <tr>\n",
              "      <th>4629</th>\n",
              "      <td>-118.30</td>\n",
              "      <td>34.07</td>\n",
              "      <td>18.0</td>\n",
              "      <td>3759.0</td>\n",
              "      <td>433.0</td>\n",
              "      <td>3296.0</td>\n",
              "      <td>1462.0</td>\n",
              "      <td>2.2708</td>\n",
              "    </tr>\n",
              "    <tr>\n",
              "      <th>6068</th>\n",
              "      <td>-117.86</td>\n",
              "      <td>34.01</td>\n",
              "      <td>16.0</td>\n",
              "      <td>4632.0</td>\n",
              "      <td>433.0</td>\n",
              "      <td>3038.0</td>\n",
              "      <td>727.0</td>\n",
              "      <td>5.1762</td>\n",
              "    </tr>\n",
              "    <tr>\n",
              "      <th>17923</th>\n",
              "      <td>-121.97</td>\n",
              "      <td>37.35</td>\n",
              "      <td>30.0</td>\n",
              "      <td>1955.0</td>\n",
              "      <td>433.0</td>\n",
              "      <td>999.0</td>\n",
              "      <td>386.0</td>\n",
              "      <td>4.6328</td>\n",
              "    </tr>\n",
              "    <tr>\n",
              "      <th>13656</th>\n",
              "      <td>-117.30</td>\n",
              "      <td>34.05</td>\n",
              "      <td>6.0</td>\n",
              "      <td>2155.0</td>\n",
              "      <td>433.0</td>\n",
              "      <td>1039.0</td>\n",
              "      <td>391.0</td>\n",
              "      <td>1.6675</td>\n",
              "    </tr>\n",
              "    <tr>\n",
              "      <th>19252</th>\n",
              "      <td>-122.79</td>\n",
              "      <td>38.48</td>\n",
              "      <td>7.0</td>\n",
              "      <td>6837.0</td>\n",
              "      <td>433.0</td>\n",
              "      <td>3468.0</td>\n",
              "      <td>1405.0</td>\n",
              "      <td>3.1662</td>\n",
              "    </tr>\n",
              "  </tbody>\n",
              "</table>\n",
              "</div>"
            ],
            "text/plain": [
              "       longitude  latitude  housing_median_age  total_rooms  total_bedrooms  \\\n",
              "4629     -118.30     34.07                18.0       3759.0           433.0   \n",
              "6068     -117.86     34.01                16.0       4632.0           433.0   \n",
              "17923    -121.97     37.35                30.0       1955.0           433.0   \n",
              "13656    -117.30     34.05                 6.0       2155.0           433.0   \n",
              "19252    -122.79     38.48                 7.0       6837.0           433.0   \n",
              "\n",
              "       population  households  median_income  \n",
              "4629       3296.0      1462.0         2.2708  \n",
              "6068       3038.0       727.0         5.1762  \n",
              "17923       999.0       386.0         4.6328  \n",
              "13656      1039.0       391.0         1.6675  \n",
              "19252      3468.0      1405.0         3.1662  "
            ]
          },
          "execution_count": 46,
          "metadata": {},
          "output_type": "execute_result"
        }
      ]
    },
    {
      "cell_type": "markdown",
      "metadata": {
        "id": "_C3qK4cXnv69"
      },
      "source": [
        "### 2) Handling Text and Categorical Attributes\n",
        "\n",
        "- 범주형 변수인 ocean_proximity를 숫자로 변환"
      ]
    },
    {
      "cell_type": "code",
      "metadata": {
        "id": "_Uh86wasnv69",
        "outputId": "2c15f6c0-cd1d-40a5-ee9b-d38ebed4a496"
      },
      "source": [
        "from sklearn.preprocessing import LabelEncoder   # LabelEncoder\n",
        "encoder = LabelEncoder()\n",
        "housing_cat = housing[\"ocean_proximity\"]\n",
        "housing_cat_encoded = encoder.fit_transform(housing_cat)\n",
        "housing_cat_encoded"
      ],
      "execution_count": null,
      "outputs": [
        {
          "data": {
            "text/plain": [
              "array([0, 0, 4, ..., 1, 0, 3])"
            ]
          },
          "execution_count": 47,
          "metadata": {},
          "output_type": "execute_result"
        }
      ]
    },
    {
      "cell_type": "code",
      "metadata": {
        "id": "pDMRsYgNnv69",
        "outputId": "badaf296-0871-4f8b-fabc-645edc296e79"
      },
      "source": [
        "print(encoder.classes_)   # 1H OCEAN:0 ~ NEAR OCEAN:4"
      ],
      "execution_count": null,
      "outputs": [
        {
          "name": "stdout",
          "output_type": "stream",
          "text": [
            "['<1H OCEAN' 'INLAND' 'ISLAND' 'NEAR BAY' 'NEAR OCEAN']\n"
          ]
        }
      ]
    },
    {
      "cell_type": "markdown",
      "metadata": {
        "id": "nFJwk_chnv69"
      },
      "source": [
        "- LabelEncoder를 사용할 경우 가까운 값이 멀리 떨어진 값보다 비슷하다고 가정. 하지만 실제 우리 데이터에서는 0과 1보다 0과 4가 더 가까움.\n",
        "\n",
        "- 이러한 문제를 해결하기 위해 binary attribute per category를 생성: one-hot encoding\n",
        "\n",
        "- One-hot Encoding: 해당하는 경우에 1을, 아닌 경우 0을 할당해 one-hot vector를 생성"
      ]
    },
    {
      "cell_type": "code",
      "metadata": {
        "id": "cCbNPa4Jnv69",
        "outputId": "48e59925-b733-420e-d887-5be76c85c5cb"
      },
      "source": [
        "from sklearn.preprocessing import OneHotEncoder\n",
        "\n",
        "encoder = OneHotEncoder()\n",
        "# fit_transform()함수는 2D array를 받아줘야 하는데 housing_cat_encoded가 1D array이기 때문에 reshape함수로 재조정해줌\n",
        "housing_cat_1hot = encoder.fit_transform(housing_cat_encoded.reshape(-1, 1))\n",
        "housing_cat_1hot"
      ],
      "execution_count": null,
      "outputs": [
        {
          "data": {
            "text/plain": [
              "<16512x5 sparse matrix of type '<class 'numpy.float64'>'\n",
              "\twith 16512 stored elements in Compressed Sparse Row format>"
            ]
          },
          "execution_count": 49,
          "metadata": {},
          "output_type": "execute_result"
        }
      ]
    },
    {
      "cell_type": "code",
      "metadata": {
        "id": "ppBmCamynv6-",
        "outputId": "7372b90d-3322-45b2-baf4-7c68bc4a2e16"
      },
      "source": [
        "housing_cat_1hot.toarray()   # one-hot encoding은 메모리를 많이 사용하기 때문에 이를 방지하고자 1 값만 저장. array로 사용하기 위해서는 .toarray()메소드를 사용"
      ],
      "execution_count": null,
      "outputs": [
        {
          "data": {
            "text/plain": [
              "array([[1., 0., 0., 0., 0.],\n",
              "       [1., 0., 0., 0., 0.],\n",
              "       [0., 0., 0., 0., 1.],\n",
              "       ...,\n",
              "       [0., 1., 0., 0., 0.],\n",
              "       [1., 0., 0., 0., 0.],\n",
              "       [0., 0., 0., 1., 0.]])"
            ]
          },
          "execution_count": 50,
          "metadata": {},
          "output_type": "execute_result"
        }
      ]
    },
    {
      "cell_type": "code",
      "metadata": {
        "id": "wwyT5EbSnv6-"
      },
      "source": [
        "# [PR #9151](https://github.com/scikit-learn/scikit-learn/pull/9151)에서 가져온 CategoricalEncoder 클래스의 정의.\n",
        "# 이 클래스는 사이킷런 0.20에 포함될 예정입니다.\n",
        "\n",
        "from sklearn.base import BaseEstimator, TransformerMixin\n",
        "from sklearn.utils import check_array\n",
        "from sklearn.preprocessing import LabelEncoder\n",
        "from scipy import sparse\n",
        "\n",
        "class CategoricalEncoder(BaseEstimator, TransformerMixin):\n",
        "    \"\"\"Encode categorical features as a numeric array.\n",
        "    The input to this transformer should be a matrix of integers or strings,\n",
        "    denoting the values taken on by categorical (discrete) features.\n",
        "    The features can be encoded using a one-hot aka one-of-K scheme\n",
        "    (``encoding='onehot'``, the default) or converted to ordinal integers\n",
        "    (``encoding='ordinal'``).\n",
        "    This encoding is needed for feeding categorical data to many scikit-learn\n",
        "    estimators, notably linear models and SVMs with the standard kernels.\n",
        "    Read more in the :ref:`User Guide <preprocessing_categorical_features>`.\n",
        "    Parameters\n",
        "    ----------\n",
        "    encoding : str, 'onehot', 'onehot-dense' or 'ordinal'\n",
        "        The type of encoding to use (default is 'onehot'):\n",
        "        - 'onehot': encode the features using a one-hot aka one-of-K scheme\n",
        "          (or also called 'dummy' encoding). This creates a binary column for\n",
        "          each category and returns a sparse matrix.\n",
        "        - 'onehot-dense': the same as 'onehot' but returns a dense array\n",
        "          instead of a sparse matrix.\n",
        "        - 'ordinal': encode the features as ordinal integers. This results in\n",
        "          a single column of integers (0 to n_categories - 1) per feature.\n",
        "    categories : 'auto' or a list of lists/arrays of values.\n",
        "        Categories (unique values) per feature:\n",
        "        - 'auto' : Determine categories automatically from the training data.\n",
        "        - list : ``categories[i]`` holds the categories expected in the ith\n",
        "          column. The passed categories are sorted before encoding the data\n",
        "          (used categories can be found in the ``categories_`` attribute).\n",
        "    dtype : number type, default np.float64\n",
        "        Desired dtype of output.\n",
        "    handle_unknown : 'error' (default) or 'ignore'\n",
        "        Whether to raise an error or ignore if a unknown categorical feature is\n",
        "        present during transform (default is to raise). When this is parameter\n",
        "        is set to 'ignore' and an unknown category is encountered during\n",
        "        transform, the resulting one-hot encoded columns for this feature\n",
        "        will be all zeros.\n",
        "        Ignoring unknown categories is not supported for\n",
        "        ``encoding='ordinal'``.\n",
        "    Attributes\n",
        "    ----------\n",
        "    categories_ : list of arrays\n",
        "        The categories of each feature determined during fitting. When\n",
        "        categories were specified manually, this holds the sorted categories\n",
        "        (in order corresponding with output of `transform`).\n",
        "    Examples\n",
        "    --------\n",
        "    Given a dataset with three features and two samples, we let the encoder\n",
        "    find the maximum value per feature and transform the data to a binary\n",
        "    one-hot encoding.\n",
        "    >>> from sklearn.preprocessing import CategoricalEncoder\n",
        "    >>> enc = CategoricalEncoder(handle_unknown='ignore')\n",
        "    >>> enc.fit([[0, 0, 3], [1, 1, 0], [0, 2, 1], [1, 0, 2]])\n",
        "    ... # doctest: +ELLIPSIS\n",
        "    CategoricalEncoder(categories='auto', dtype=<... 'numpy.float64'>,\n",
        "              encoding='onehot', handle_unknown='ignore')\n",
        "    >>> enc.transform([[0, 1, 1], [1, 0, 4]]).toarray()\n",
        "    array([[ 1.,  0.,  0.,  1.,  0.,  0.,  1.,  0.,  0.],\n",
        "           [ 0.,  1.,  1.,  0.,  0.,  0.,  0.,  0.,  0.]])\n",
        "    See also\n",
        "    --------\n",
        "    sklearn.preprocessing.OneHotEncoder : performs a one-hot encoding of\n",
        "      integer ordinal features. The ``OneHotEncoder assumes`` that input\n",
        "      features take on values in the range ``[0, max(feature)]`` instead of\n",
        "      using the unique values.\n",
        "    sklearn.feature_extraction.DictVectorizer : performs a one-hot encoding of\n",
        "      dictionary items (also handles string-valued features).\n",
        "    sklearn.feature_extraction.FeatureHasher : performs an approximate one-hot\n",
        "      encoding of dictionary items or strings.\n",
        "    \"\"\"\n",
        "\n",
        "    def __init__(self, encoding='onehot', categories='auto', dtype=np.float64,\n",
        "                 handle_unknown='error'):\n",
        "        self.encoding = encoding\n",
        "        self.categories = categories\n",
        "        self.dtype = dtype\n",
        "        self.handle_unknown = handle_unknown\n",
        "\n",
        "    def fit(self, X, y=None):\n",
        "        \"\"\"Fit the CategoricalEncoder to X.\n",
        "        Parameters\n",
        "        ----------\n",
        "        X : array-like, shape [n_samples, n_feature]\n",
        "            The data to determine the categories of each feature.\n",
        "        Returns\n",
        "        -------\n",
        "        self\n",
        "        \"\"\"\n",
        "\n",
        "        if self.encoding not in ['onehot', 'onehot-dense', 'ordinal']:\n",
        "            template = (\"encoding should be either 'onehot', 'onehot-dense' \"\n",
        "                        \"or 'ordinal', got %s\")\n",
        "            raise ValueError(template % self.handle_unknown)\n",
        "\n",
        "        if self.handle_unknown not in ['error', 'ignore']:\n",
        "            template = (\"handle_unknown should be either 'error' or \"\n",
        "                        \"'ignore', got %s\")\n",
        "            raise ValueError(template % self.handle_unknown)\n",
        "\n",
        "        if self.encoding == 'ordinal' and self.handle_unknown == 'ignore':\n",
        "            raise ValueError(\"handle_unknown='ignore' is not supported for\"\n",
        "                             \" encoding='ordinal'\")\n",
        "\n",
        "        X = check_array(X, dtype=np.object, accept_sparse='csc', copy=True)\n",
        "        n_samples, n_features = X.shape\n",
        "\n",
        "        self._label_encoders_ = [LabelEncoder() for _ in range(n_features)]\n",
        "\n",
        "        for i in range(n_features):\n",
        "            le = self._label_encoders_[i]\n",
        "            Xi = X[:, i]\n",
        "            if self.categories == 'auto':\n",
        "                le.fit(Xi)\n",
        "            else:\n",
        "                valid_mask = np.in1d(Xi, self.categories[i])\n",
        "                if not np.all(valid_mask):\n",
        "                    if self.handle_unknown == 'error':\n",
        "                        diff = np.unique(Xi[~valid_mask])\n",
        "                        msg = (\"Found unknown categories {0} in column {1}\"\n",
        "                               \" during fit\".format(diff, i))\n",
        "                        raise ValueError(msg)\n",
        "                le.classes_ = np.array(np.sort(self.categories[i]))\n",
        "\n",
        "        self.categories_ = [le.classes_ for le in self._label_encoders_]\n",
        "\n",
        "        return self\n",
        "\n",
        "    def transform(self, X):\n",
        "        \"\"\"Transform X using one-hot encoding.\n",
        "        Parameters\n",
        "        ----------\n",
        "        X : array-like, shape [n_samples, n_features]\n",
        "            The data to encode.\n",
        "        Returns\n",
        "        -------\n",
        "        X_out : sparse matrix or a 2-d array\n",
        "            Transformed input.\n",
        "        \"\"\"\n",
        "        X = check_array(X, accept_sparse='csc', dtype=np.object, copy=True)\n",
        "        n_samples, n_features = X.shape\n",
        "        X_int = np.zeros_like(X, dtype=np.int)\n",
        "        X_mask = np.ones_like(X, dtype=np.bool)\n",
        "\n",
        "        for i in range(n_features):\n",
        "            valid_mask = np.in1d(X[:, i], self.categories_[i])\n",
        "\n",
        "            if not np.all(valid_mask):\n",
        "                if self.handle_unknown == 'error':\n",
        "                    diff = np.unique(X[~valid_mask, i])\n",
        "                    msg = (\"Found unknown categories {0} in column {1}\"\n",
        "                           \" during transform\".format(diff, i))\n",
        "                    raise ValueError(msg)\n",
        "                else:\n",
        "                    # Set the problematic rows to an acceptable value and\n",
        "                    # continue `The rows are marked `X_mask` and will be\n",
        "                    # removed later.\n",
        "                    X_mask[:, i] = valid_mask\n",
        "                    X[:, i][~valid_mask] = self.categories_[i][0]\n",
        "            X_int[:, i] = self._label_encoders_[i].transform(X[:, i])\n",
        "\n",
        "        if self.encoding == 'ordinal':\n",
        "            return X_int.astype(self.dtype, copy=False)\n",
        "\n",
        "        mask = X_mask.ravel()\n",
        "        n_values = [cats.shape[0] for cats in self.categories_]\n",
        "        n_values = np.array([0] + n_values)\n",
        "        indices = np.cumsum(n_values)\n",
        "\n",
        "        column_indices = (X_int + indices[:-1]).ravel()[mask]\n",
        "        row_indices = np.repeat(np.arange(n_samples, dtype=np.int32),\n",
        "                                n_features)[mask]\n",
        "        data = np.ones(n_samples * n_features)[mask]\n",
        "\n",
        "        out = sparse.csc_matrix((data, (row_indices, column_indices)),\n",
        "                                shape=(n_samples, indices[-1]),\n",
        "                                dtype=self.dtype).tocsr()\n",
        "        if self.encoding == 'onehot-dense':\n",
        "            return out.toarray()\n",
        "        else:\n",
        "            return out"
      ],
      "execution_count": null,
      "outputs": []
    },
    {
      "cell_type": "code",
      "metadata": {
        "id": "wqGfx5tEnv6_",
        "outputId": "baf55fdd-6c94-4d42-b787-3629de560f9f"
      },
      "source": [
        "cat_encoder = CategoricalEncoder()\n",
        "housing_cat_reshaped = housing_cat.values.reshape(-1, 1)\n",
        "housing_cat_1hot = cat_encoder.fit_transform(housing_cat_reshaped)\n",
        "housing_cat_1hot"
      ],
      "execution_count": null,
      "outputs": [
        {
          "data": {
            "text/plain": [
              "<16512x5 sparse matrix of type '<class 'numpy.float64'>'\n",
              "\twith 16512 stored elements in Compressed Sparse Row format>"
            ]
          },
          "execution_count": 69,
          "metadata": {},
          "output_type": "execute_result"
        }
      ]
    },
    {
      "cell_type": "code",
      "metadata": {
        "id": "VzkDtgNvnv6_",
        "outputId": "7df4f4e6-9a82-4d49-9a2b-c9d8ea02e6da"
      },
      "source": [
        "housing_cat_1hot.toarray()"
      ],
      "execution_count": null,
      "outputs": [
        {
          "data": {
            "text/plain": [
              "array([[1., 0., 0., 0., 0.],\n",
              "       [1., 0., 0., 0., 0.],\n",
              "       [0., 0., 0., 0., 1.],\n",
              "       ...,\n",
              "       [0., 1., 0., 0., 0.],\n",
              "       [1., 0., 0., 0., 0.],\n",
              "       [0., 0., 0., 1., 0.]])"
            ]
          },
          "execution_count": 70,
          "metadata": {},
          "output_type": "execute_result"
        }
      ]
    },
    {
      "cell_type": "code",
      "metadata": {
        "id": "qBjnbNM-nv6_",
        "outputId": "84fb99a9-15b2-4d81-921b-2aabd5d1ba9e"
      },
      "source": [
        "cat_encoder.categories_"
      ],
      "execution_count": null,
      "outputs": [
        {
          "data": {
            "text/plain": [
              "[array(['<1H OCEAN', 'INLAND', 'ISLAND', 'NEAR BAY', 'NEAR OCEAN'],\n",
              "       dtype=object)]"
            ]
          },
          "execution_count": 71,
          "metadata": {},
          "output_type": "execute_result"
        }
      ]
    },
    {
      "cell_type": "code",
      "metadata": {
        "id": "11lBRqYonv6_",
        "outputId": "24408ef5-d809-47f6-f9a6-346db1696e75"
      },
      "source": [
        "from sklearn.preprocessing import LabelBinarizer   # text 카테고리를 integer 카테고리로 바꾸고 이를 one-hot vectors로 바꾸는 것을 한번에 하기 위해 LabelBinarizer 사용\n",
        "encoder = LabelBinarizer()\n",
        "housing_cat_1hot = encoder.fit_transform(housing_cat)\n",
        "housing_cat_1hot"
      ],
      "execution_count": null,
      "outputs": [
        {
          "data": {
            "text/plain": [
              "array([[1, 0, 0, 0, 0],\n",
              "       [1, 0, 0, 0, 0],\n",
              "       [0, 0, 0, 0, 1],\n",
              "       ...,\n",
              "       [0, 1, 0, 0, 0],\n",
              "       [1, 0, 0, 0, 0],\n",
              "       [0, 0, 0, 1, 0]])"
            ]
          },
          "execution_count": 51,
          "metadata": {},
          "output_type": "execute_result"
        }
      ]
    },
    {
      "cell_type": "markdown",
      "metadata": {
        "id": "3CwJsmM4nv6_"
      },
      "source": [
        "### 3) Custom Transformers\n",
        "\n",
        "- Scikit-Learn은 다양한 기능을 제공하지만 경우에 따라서는 scikit-Learn에서 다루지 않는 기능이 필요할 수도 있음\n",
        "\n",
        "- 세 가지 메소드: fit(), transform(), fit_transform() 를 사용\n",
        "\n",
        "- https://www.inflearn.com/questions/19038\n",
        "\n",
        "- fit_transform(): TransformerMixin을 base class로 추가해 구함\n",
        "\n",
        "- get_params(), set_params(): BaseEstimator를 base class로 추가해 구하며 이는 초모수를 조정하는데 유용하게 사용됨"
      ]
    },
    {
      "cell_type": "code",
      "metadata": {
        "id": "obazhIF1nv6_"
      },
      "source": [
        "from sklearn.base import BaseEstimator, TransformerMixin\n",
        "\n",
        "rooms_ix, bedrooms_ix, population_ix, household_ix = 3, 4, 5, 6\n",
        "\n",
        "class CombinedAttributesAdder(BaseEstimator, TransformerMixin):\n",
        "    def __init__(self, add_bedrooms_per_room=True):  # no *args or **kargs\n",
        "        self.add_bedrooms_per_room = add_bedrooms_per_room\n",
        "        \n",
        "    def fit(self, X, y=None):\n",
        "        return self\n",
        "    \n",
        "    def transform(self, X, y=None):\n",
        "        rooms_per_household = X[:, rooms_ix] / X[:, household_ix]\n",
        "        population_per_household = X[:, population_ix] / X[:, household_ix]\n",
        "        if self.add_bedrooms_per_room:\n",
        "            bedrooms_per_room = X[:, bedrooms_ix] / X[:, rooms_ix]\n",
        "            return np.c_[X, rooms_per_household, population_per_household,\n",
        "                         bedrooms_per_room]\n",
        "        else:\n",
        "            return np.c_[X, rooms_per_household, population_per_household]\n",
        "        \n",
        "\n",
        "attr_adder = CombinedAttributesAdder(add_bedrooms_per_room=False)\n",
        "housing_extra_attribs = attr_adder.transform(housing.values)"
      ],
      "execution_count": null,
      "outputs": []
    },
    {
      "cell_type": "code",
      "metadata": {
        "id": "smFqx0hpnv6_",
        "outputId": "f7de005a-988d-4058-f22b-f1deed85b2b6"
      },
      "source": [
        "housing_extra_attribs = pd.DataFrame(\n",
        "    housing_extra_attribs, \n",
        "    columns=list(housing.columns)+[\"rooms_per_household\", \"population_per_household\"])\n",
        "housing_extra_attribs.head()"
      ],
      "execution_count": null,
      "outputs": [
        {
          "data": {
            "text/html": [
              "<div>\n",
              "<style scoped>\n",
              "    .dataframe tbody tr th:only-of-type {\n",
              "        vertical-align: middle;\n",
              "    }\n",
              "\n",
              "    .dataframe tbody tr th {\n",
              "        vertical-align: top;\n",
              "    }\n",
              "\n",
              "    .dataframe thead th {\n",
              "        text-align: right;\n",
              "    }\n",
              "</style>\n",
              "<table border=\"1\" class=\"dataframe\">\n",
              "  <thead>\n",
              "    <tr style=\"text-align: right;\">\n",
              "      <th></th>\n",
              "      <th>longitude</th>\n",
              "      <th>latitude</th>\n",
              "      <th>housing_median_age</th>\n",
              "      <th>total_rooms</th>\n",
              "      <th>total_bedrooms</th>\n",
              "      <th>population</th>\n",
              "      <th>households</th>\n",
              "      <th>median_income</th>\n",
              "      <th>ocean_proximity</th>\n",
              "      <th>rooms_per_household</th>\n",
              "      <th>population_per_household</th>\n",
              "    </tr>\n",
              "  </thead>\n",
              "  <tbody>\n",
              "    <tr>\n",
              "      <th>0</th>\n",
              "      <td>-121.89</td>\n",
              "      <td>37.29</td>\n",
              "      <td>38</td>\n",
              "      <td>1568</td>\n",
              "      <td>351</td>\n",
              "      <td>710</td>\n",
              "      <td>339</td>\n",
              "      <td>2.7042</td>\n",
              "      <td>&lt;1H OCEAN</td>\n",
              "      <td>4.62537</td>\n",
              "      <td>2.0944</td>\n",
              "    </tr>\n",
              "    <tr>\n",
              "      <th>1</th>\n",
              "      <td>-121.93</td>\n",
              "      <td>37.05</td>\n",
              "      <td>14</td>\n",
              "      <td>679</td>\n",
              "      <td>108</td>\n",
              "      <td>306</td>\n",
              "      <td>113</td>\n",
              "      <td>6.4214</td>\n",
              "      <td>&lt;1H OCEAN</td>\n",
              "      <td>6.00885</td>\n",
              "      <td>2.70796</td>\n",
              "    </tr>\n",
              "    <tr>\n",
              "      <th>2</th>\n",
              "      <td>-117.2</td>\n",
              "      <td>32.77</td>\n",
              "      <td>31</td>\n",
              "      <td>1952</td>\n",
              "      <td>471</td>\n",
              "      <td>936</td>\n",
              "      <td>462</td>\n",
              "      <td>2.8621</td>\n",
              "      <td>NEAR OCEAN</td>\n",
              "      <td>4.22511</td>\n",
              "      <td>2.02597</td>\n",
              "    </tr>\n",
              "    <tr>\n",
              "      <th>3</th>\n",
              "      <td>-119.61</td>\n",
              "      <td>36.31</td>\n",
              "      <td>25</td>\n",
              "      <td>1847</td>\n",
              "      <td>371</td>\n",
              "      <td>1460</td>\n",
              "      <td>353</td>\n",
              "      <td>1.8839</td>\n",
              "      <td>INLAND</td>\n",
              "      <td>5.23229</td>\n",
              "      <td>4.13598</td>\n",
              "    </tr>\n",
              "    <tr>\n",
              "      <th>4</th>\n",
              "      <td>-118.59</td>\n",
              "      <td>34.23</td>\n",
              "      <td>17</td>\n",
              "      <td>6592</td>\n",
              "      <td>1525</td>\n",
              "      <td>4459</td>\n",
              "      <td>1463</td>\n",
              "      <td>3.0347</td>\n",
              "      <td>&lt;1H OCEAN</td>\n",
              "      <td>4.50581</td>\n",
              "      <td>3.04785</td>\n",
              "    </tr>\n",
              "  </tbody>\n",
              "</table>\n",
              "</div>"
            ],
            "text/plain": [
              "  longitude latitude housing_median_age total_rooms total_bedrooms population  \\\n",
              "0   -121.89    37.29                 38        1568            351        710   \n",
              "1   -121.93    37.05                 14         679            108        306   \n",
              "2    -117.2    32.77                 31        1952            471        936   \n",
              "3   -119.61    36.31                 25        1847            371       1460   \n",
              "4   -118.59    34.23                 17        6592           1525       4459   \n",
              "\n",
              "  households median_income ocean_proximity rooms_per_household  \\\n",
              "0        339        2.7042       <1H OCEAN             4.62537   \n",
              "1        113        6.4214       <1H OCEAN             6.00885   \n",
              "2        462        2.8621      NEAR OCEAN             4.22511   \n",
              "3        353        1.8839          INLAND             5.23229   \n",
              "4       1463        3.0347       <1H OCEAN             4.50581   \n",
              "\n",
              "  population_per_household  \n",
              "0                   2.0944  \n",
              "1                  2.70796  \n",
              "2                  2.02597  \n",
              "3                  4.13598  \n",
              "4                  3.04785  "
            ]
          },
          "execution_count": 54,
          "metadata": {},
          "output_type": "execute_result"
        }
      ]
    },
    {
      "cell_type": "markdown",
      "metadata": {
        "id": "KgNEqbRJnv6_"
      },
      "source": [
        "### 4) Feature Scaling\n",
        "\n",
        "- 몇 가지 경우를 제외하고 대부분의 머신러닝 알고리즘은 수치형 변수가 서로 다른 척도를 가지고 있을 때 잘 수행하지 못함.\n",
        "\n",
        "ex) #rooms(6 ~ 39,320), 중위소득(0 ~ 15)\n",
        "\n",
        "- 같은 척도를 갖게 하기 위해 두가지 방법이 있음: min-max scailing, standardization\n",
        "\n",
        "1. min-max scailing(normalizaion): 0부터 1의 값으로 재조정됨(가장 작은 값을 빼준 후 range 값으로 나눠 줌). Scikit-Learn의 MinMaxScaler로 사용할 수 있으며 feature_range를 사용해 0~1의 범위를 조정할 수도 있음\n",
        "\n",
        "2. Standardization: 평균이 0을 갖게 끔 하는 표준화 작업. 특정 범위 안에 들어오는 것이 아니기 때문에 문제가 될 수도 있지만 이상치의 영향을 덜 받는 장점이 있음. Scikit-Learn의 StandardScaler로 사용"
      ]
    },
    {
      "cell_type": "markdown",
      "metadata": {
        "id": "MU0AHvRRnv6_"
      },
      "source": [
        "### 5) Transformation Pipelines\n",
        "\n",
        "- Scikit-Learn의 Pipeline class는 데이터 전처리와 관련된 일련의 과정을 순서대로 진행하게 도와줌\n",
        "\n",
        "https://rk1993.tistory.com/entry/Python-sklearnpipeline-%ED%8C%8C%EC%9D%B4%ED%94%84%EB%9D%BC%EC%9D%B8Pipeline%EC%9D%B4%EB%9E%80"
      ]
    },
    {
      "cell_type": "code",
      "metadata": {
        "id": "S68xprPEnv6_"
      },
      "source": [
        "from sklearn.pipeline import Pipeline\n",
        "from sklearn.preprocessing import StandardScaler\n",
        "\n",
        "num_pipeline = Pipeline([\n",
        "    ('imputer', SimpleImputer(strategy='median')),\n",
        "    ('attribs_adder', CombinedAttributesAdder()),\n",
        "    ('std_scaler', StandardScaler()),   # StandardScaler: transformer 함수\n",
        "])\n",
        "\n",
        "housing_num_tr = num_pipeline.fit_transform(housing_num)  # fit()+transform()"
      ],
      "execution_count": null,
      "outputs": []
    },
    {
      "cell_type": "code",
      "metadata": {
        "id": "vMhS0iMdnv6_",
        "outputId": "ca8dfc2d-e52b-44d6-86c5-29a383964a8e"
      },
      "source": [
        "housing_num_tr"
      ],
      "execution_count": null,
      "outputs": [
        {
          "data": {
            "text/plain": [
              "array([[-1.15604281,  0.77194962,  0.74333089, ..., -0.31205452,\n",
              "        -0.08649871,  0.15531753],\n",
              "       [-1.17602483,  0.6596948 , -1.1653172 , ...,  0.21768338,\n",
              "        -0.03353391, -0.83628902],\n",
              "       [ 1.18684903, -1.34218285,  0.18664186, ..., -0.46531516,\n",
              "        -0.09240499,  0.4222004 ],\n",
              "       ...,\n",
              "       [ 1.58648943, -0.72478134, -1.56295222, ...,  0.3469342 ,\n",
              "        -0.03055414, -0.52177644],\n",
              "       [ 0.78221312, -0.85106801,  0.18664186, ...,  0.02499488,\n",
              "         0.06150916, -0.30340741],\n",
              "       [-1.43579109,  0.99645926,  1.85670895, ..., -0.22852947,\n",
              "        -0.09586294,  0.10180567]])"
            ]
          },
          "execution_count": 57,
          "metadata": {},
          "output_type": "execute_result"
        }
      ]
    },
    {
      "cell_type": "markdown",
      "metadata": {
        "id": "-2UOlm41nv7A"
      },
      "source": [
        "- Pandas DataFrame을 직접 pipeline에 넣어 돌리면 좋을 것\n",
        "\n",
        "- Scikit-Learn에서는 Pandas의 DataFrames를 다룰 수 있는 기능이 없기 때문에 직접 custom transformer를 작성해 Numpy array로 바꿔주어야 한다."
      ]
    },
    {
      "cell_type": "code",
      "metadata": {
        "id": "6mJW5DiLnv7A"
      },
      "source": [
        "from sklearn.base import BaseEstimator, TransformerMixin\n",
        "\n",
        "class DataFrameSelector(BaseEstimator, TransformerMixin):\n",
        "    def __init__(self, attribute_names):\n",
        "        self.attribute_names = attribute_names\n",
        "        \n",
        "    def fit(self, X, y=None):\n",
        "        return self\n",
        "    \n",
        "    def transform(self, X):\n",
        "        return X[self.attribute_names].values"
      ],
      "execution_count": null,
      "outputs": []
    },
    {
      "cell_type": "code",
      "metadata": {
        "id": "4Mh_rowqnv7A"
      },
      "source": [
        "num_attribs = housing_num.columns.tolist()\n",
        "cat_attribs = ['ocean_proximity']\n",
        "\n",
        "num_pipeline = Pipeline([\n",
        "    ('selector', DataFrameSelector(num_attribs)),   # numerical values\n",
        "    ('imputer', SimpleImputer(strategy=\"median\")),\n",
        "    ('attribs_adder', CombinedAttributesAdder()),   # rooms_per_household, population_per_household 추가\n",
        "    ('std_scaler', StandardScaler()),\n",
        "])\n",
        "\n",
        "cat_pipeline = Pipeline([\n",
        "    ('selector', DataFrameSelector(cat_attribs)),\n",
        "    ('cat_encoder', CategoricalEncoder(encoding=\"onehot-dense\")),\n",
        "])"
      ],
      "execution_count": null,
      "outputs": []
    },
    {
      "cell_type": "code",
      "metadata": {
        "id": "SXjwQToanv7A",
        "outputId": "ea2c32a6-7bf2-4b98-ad59-d2028a5d5196"
      },
      "source": [
        "housing_cat_tr = cat_pipeline.fit_transform(housing)\n",
        "housing_cat_tr"
      ],
      "execution_count": null,
      "outputs": [
        {
          "data": {
            "text/plain": [
              "array([[1., 0., 0., 0., 0.],\n",
              "       [1., 0., 0., 0., 0.],\n",
              "       [0., 0., 0., 0., 1.],\n",
              "       ...,\n",
              "       [0., 1., 0., 0., 0.],\n",
              "       [1., 0., 0., 0., 0.],\n",
              "       [0., 0., 0., 1., 0.]])"
            ]
          },
          "execution_count": 75,
          "metadata": {},
          "output_type": "execute_result"
        }
      ]
    },
    {
      "cell_type": "code",
      "metadata": {
        "id": "qSIu7jArnv7A"
      },
      "source": [
        "from sklearn.pipeline import FeatureUnion   #  두개의 pipeline을 하나로 합침\n",
        "\n",
        "full_pipeline = FeatureUnion(transformer_list=[\n",
        "        ('num_pipeline', num_pipeline),\n",
        "        ('cat_pipeline', cat_pipeline),\n",
        "])"
      ],
      "execution_count": null,
      "outputs": []
    },
    {
      "cell_type": "code",
      "metadata": {
        "id": "pqSpeIArnv7A",
        "outputId": "7bb895d9-b979-4e39-8a3d-bebe745174c2"
      },
      "source": [
        "housing_prepared = full_pipeline.fit_transform(housing)\n",
        "housing_prepared"
      ],
      "execution_count": null,
      "outputs": [
        {
          "data": {
            "text/plain": [
              "array([[-1.15604281,  0.77194962,  0.74333089, ...,  0.        ,\n",
              "         0.        ,  0.        ],\n",
              "       [-1.17602483,  0.6596948 , -1.1653172 , ...,  0.        ,\n",
              "         0.        ,  0.        ],\n",
              "       [ 1.18684903, -1.34218285,  0.18664186, ...,  0.        ,\n",
              "         0.        ,  1.        ],\n",
              "       ...,\n",
              "       [ 1.58648943, -0.72478134, -1.56295222, ...,  0.        ,\n",
              "         0.        ,  0.        ],\n",
              "       [ 0.78221312, -0.85106801,  0.18664186, ...,  0.        ,\n",
              "         0.        ,  0.        ],\n",
              "       [-1.43579109,  0.99645926,  1.85670895, ...,  0.        ,\n",
              "         1.        ,  0.        ]])"
            ]
          },
          "execution_count": 77,
          "metadata": {},
          "output_type": "execute_result"
        }
      ]
    },
    {
      "cell_type": "code",
      "metadata": {
        "id": "oiYhBw2Znv7A",
        "outputId": "e3a3111c-55f5-40a2-c4cb-e6c2fbdc466f"
      },
      "source": [
        "print('housing_prepared.shape :', housing_prepared.shape)   # 10 + r_p_h + p_p_h + encoding(4) =16"
      ],
      "execution_count": null,
      "outputs": [
        {
          "name": "stdout",
          "output_type": "stream",
          "text": [
            "housing_prepared.shape : (16512, 16)\n"
          ]
        }
      ]
    },
    {
      "cell_type": "markdown",
      "metadata": {
        "id": "58L_AXgPnv7A"
      },
      "source": [
        "## Select and Train a Model"
      ]
    },
    {
      "cell_type": "markdown",
      "metadata": {
        "id": "9F8T1nMMnv7A"
      },
      "source": [
        "### 1) Training and Evaluating on the Training Set"
      ]
    },
    {
      "cell_type": "code",
      "metadata": {
        "id": "g-yLizoxnv7A",
        "outputId": "38bcecff-09fd-4edd-bfff-7145dcf2e7ce"
      },
      "source": [
        "from sklearn.linear_model import LinearRegression   # LinearRegression\n",
        "\n",
        "lin_reg = LinearRegression()\n",
        "lin_reg.fit(housing_prepared, housing_labels)"
      ],
      "execution_count": null,
      "outputs": [
        {
          "data": {
            "text/plain": [
              "LinearRegression()"
            ]
          },
          "execution_count": 79,
          "metadata": {},
          "output_type": "execute_result"
        }
      ]
    },
    {
      "cell_type": "code",
      "metadata": {
        "id": "4cdOyF7inv7A",
        "outputId": "c5f93c7a-3b79-456a-bf3c-006130bdb17b"
      },
      "source": [
        "# 훈련 샘플 몇 개를 사용해 전체 파이프라인을 적용해 보기\n",
        "some_data = housing.iloc[:5]\n",
        "some_labels = housing_labels.iloc[:5]\n",
        "some_data_prepared = full_pipeline.transform(some_data)\n",
        "\n",
        "print(\"Predictions:\", lin_reg.predict(some_data_prepared))\n",
        "print(\"Labels:\", list(some_labels))"
      ],
      "execution_count": null,
      "outputs": [
        {
          "name": "stdout",
          "output_type": "stream",
          "text": [
            "Predictions: [210644.60459286 317768.80697211 210956.43331178  59218.98886849\n",
            " 189747.55849879]\n",
            "Labels: [286600.0, 340600.0, 196900.0, 46300.0, 254500.0]\n"
          ]
        }
      ]
    },
    {
      "cell_type": "code",
      "metadata": {
        "id": "drvDdc-4nv7A",
        "outputId": "d3f6a01a-5f78-4942-8f9e-f063d95e79c2"
      },
      "source": [
        "from sklearn.metrics import mean_squared_error   # RMSE 계산\n",
        "\n",
        "housing_predictions = lin_reg.predict(housing_prepared)\n",
        "lin_mse = mean_squared_error(housing_labels, housing_predictions)\n",
        "lin_rmse = np.sqrt(lin_mse)\n",
        "print('RMSE :', lin_rmse)"
      ],
      "execution_count": null,
      "outputs": [
        {
          "name": "stdout",
          "output_type": "stream",
          "text": [
            "RMSE : 68628.19819848923\n"
          ]
        }
      ]
    },
    {
      "cell_type": "markdown",
      "metadata": {
        "id": "yjeV0nK9nv7B"
      },
      "source": [
        "- 오차가 만족스러울만큼 작지 않음: underfitting\n",
        "- 특성변수가 충분한 정보를 제공하지 못하거나 모형이 충분히 강력하지 않음\n",
        "- 이러한 underfitting을 줄이기 위해서 더 나은 모형을 선택하거나 더 나은 특성변수로 알고리즘을 훈련시키거나 모형의 규제를 줄여야 함"
      ]
    },
    {
      "cell_type": "code",
      "metadata": {
        "id": "FiOAW6kUnv7B",
        "outputId": "d2b744ad-3834-40e5-81c0-0d387ef1b2f5"
      },
      "source": [
        "from sklearn.tree import DecisionTreeRegressor   # 복잡한 비선형 관계를 찾기에 강력한 모형\n",
        "\n",
        "tree_reg = DecisionTreeRegressor()\n",
        "tree_reg.fit(housing_prepared, housing_labels)"
      ],
      "execution_count": null,
      "outputs": [
        {
          "data": {
            "text/plain": [
              "DecisionTreeRegressor()"
            ]
          },
          "execution_count": 84,
          "metadata": {},
          "output_type": "execute_result"
        }
      ]
    },
    {
      "cell_type": "code",
      "metadata": {
        "id": "4Ap5E5k8nv7B",
        "outputId": "75a62825-dc51-4c9e-fda4-f7844e725960"
      },
      "source": [
        "housing_predictions = tree_reg.predict(housing_prepared)\n",
        "tree_mse = mean_squared_error(housing_labels, housing_predictions)\n",
        "tree_rmse = np.sqrt(tree_mse)\n",
        "print('RMSE :', tree_rmse)"
      ],
      "execution_count": null,
      "outputs": [
        {
          "name": "stdout",
          "output_type": "stream",
          "text": [
            "RMSE : 0.0\n"
          ]
        }
      ]
    },
    {
      "cell_type": "markdown",
      "metadata": {
        "id": "-qyos_AMnv7B"
      },
      "source": [
        "- error가 0: 모형이 overfit 됐을 가능성이 높음"
      ]
    },
    {
      "cell_type": "markdown",
      "metadata": {
        "id": "UakdnMKSnv7B"
      },
      "source": [
        "### 2) Better Evaluation Using Cross-Validation\n",
        "\n",
        "- K-fold cross-validation: training set을 랜덤하게 10개의 구역(fold)으로 나누고 훈련 시킨 후 Decision Tree 모형을 10번 평가\n",
        "\n",
        "- 평가를 위한 fold 1개를 매번 선택한 후 나머지 9개의 fold에 대해 훈련을 진행\n",
        "\n",
        "- 결과는 10개의 평가 점수가 포함된 array로 나타남"
      ]
    },
    {
      "cell_type": "code",
      "metadata": {
        "id": "kdUS_C_Lnv7B"
      },
      "source": [
        "from sklearn.model_selection import cross_val_score\n",
        "\n",
        "scores = cross_val_score(tree_reg, housing_prepared, housing_labels,\n",
        "                         scoring='neg_mean_squared_error', cv=10)\n",
        "tree_rmse_scores = np.sqrt(-scores)"
      ],
      "execution_count": null,
      "outputs": []
    },
    {
      "cell_type": "code",
      "metadata": {
        "id": "jSRb2L0snv7B",
        "outputId": "e205d6d3-e486-4eae-fcc3-adb7da4ba821"
      },
      "source": [
        "def display_scores(scores):\n",
        "    print(\"Scores:\", scores)\n",
        "    print(\"Mean:\", scores.mean())\n",
        "    print(\"Standard deviation:\", scores.std())\n",
        "\n",
        "# DecisionTree\n",
        "display_scores(tree_rmse_scores)"
      ],
      "execution_count": null,
      "outputs": [
        {
          "name": "stdout",
          "output_type": "stream",
          "text": [
            "Scores: [69327.01708558 65486.39211857 71358.25563341 69091.37509104\n",
            " 70570.20267046 75529.94622521 69895.20650652 70660.14247357\n",
            " 75843.74719231 68905.17669382]\n",
            "Mean: 70666.74616904806\n",
            "Standard deviation: 2928.322738055112\n"
          ]
        }
      ]
    },
    {
      "cell_type": "markdown",
      "metadata": {
        "id": "mI9ze3ZGnv7B"
      },
      "source": [
        "- 전에 봤던 것 만큼 좋아보이지 않음 (약 70666)\n",
        "\n",
        "- Linear Regression 모형보다 더 안좋음\n",
        "\n",
        "- cross-validaion은 모형의 수행능력 뿐만 아니라 얼마나 이 추정치가 정확한지도 측정 (표준편차)"
      ]
    },
    {
      "cell_type": "code",
      "metadata": {
        "id": "7d_byQFhnv7B",
        "outputId": "cfca97e9-292e-44c1-fedd-fb6f9a3ec025"
      },
      "source": [
        "# Linear Regression\n",
        "lin_scores = cross_val_score(lin_reg, housing_prepared, housing_labels,\n",
        "                             scoring=\"neg_mean_squared_error\", cv=10)\n",
        "lin_rmse_scores = np.sqrt(-lin_scores)\n",
        "display_scores(lin_rmse_scores)"
      ],
      "execution_count": null,
      "outputs": [
        {
          "name": "stdout",
          "output_type": "stream",
          "text": [
            "Scores: [66782.73843989 66960.118071   70347.95244419 74739.57052552\n",
            " 68031.13388938 71193.84183426 64969.63056405 68281.61137997\n",
            " 71552.91566558 67665.10082067]\n",
            "Mean: 69052.46136345083\n",
            "Standard deviation: 2731.674001798344\n"
          ]
        }
      ]
    },
    {
      "cell_type": "markdown",
      "metadata": {
        "id": "yIz1VmZlnv7B"
      },
      "source": [
        "##### RandomForestRegressor\n",
        "\n",
        "- Random Forests: 특성 변수의 임의의 부분집합에 대해 Decision Trees를 훈련시킴으로써 작동\n",
        "\n",
        "- 그것들의 예측치의 평균을 냄"
      ]
    },
    {
      "cell_type": "code",
      "metadata": {
        "id": "hnm71yeTnv7B",
        "outputId": "ae14e2f7-3d27-4f99-bd9d-ead70b144512"
      },
      "source": [
        "from sklearn.ensemble import RandomForestRegressor\n",
        "\n",
        "forest_reg = RandomForestRegressor(random_state=42)\n",
        "forest_reg.fit(housing_prepared, housing_labels)"
      ],
      "execution_count": null,
      "outputs": [
        {
          "data": {
            "text/plain": [
              "RandomForestRegressor(random_state=42)"
            ]
          },
          "execution_count": 89,
          "metadata": {},
          "output_type": "execute_result"
        }
      ]
    },
    {
      "cell_type": "code",
      "metadata": {
        "id": "Gjda9NpJnv7B",
        "outputId": "a5db5e18-556b-43f9-f838-b647f7f5a0c3"
      },
      "source": [
        "housing_predictions = forest_reg.predict(housing_prepared)\n",
        "forest_mse = mean_squared_error(housing_labels, housing_predictions)\n",
        "forest_rmse = np.sqrt(forest_mse)\n",
        "print('RMSE :', forest_rmse)"
      ],
      "execution_count": null,
      "outputs": [
        {
          "name": "stdout",
          "output_type": "stream",
          "text": [
            "RMSE : 18603.515021376355\n"
          ]
        }
      ]
    },
    {
      "cell_type": "code",
      "metadata": {
        "id": "WpVUe2X-nv7C",
        "outputId": "ad64d9f2-91b0-4b97-ee8b-47b16290c7b3"
      },
      "source": [
        "from sklearn.model_selection import cross_val_score\n",
        "\n",
        "forest_scores = cross_val_score(forest_reg, housing_prepared, housing_labels,\n",
        "                                scoring=\"neg_mean_squared_error\", cv=10)\n",
        "forest_rmse_scores = np.sqrt(-forest_scores)\n",
        "display_scores(forest_rmse_scores)"
      ],
      "execution_count": null,
      "outputs": [
        {
          "name": "stdout",
          "output_type": "stream",
          "text": [
            "Scores: [49519.80364233 47461.9115823  50029.02762854 52325.28068953\n",
            " 49308.39426421 53446.37892622 48634.8036574  47585.73832311\n",
            " 53490.10699751 50021.5852922 ]\n",
            "Mean: 50182.303100336096\n",
            "Standard deviation: 2097.0810550985693\n"
          ]
        }
      ]
    },
    {
      "cell_type": "markdown",
      "metadata": {
        "id": "88tikQdmnv7C"
      },
      "source": [
        "- 훨씬 나은 결과\n",
        "\n",
        "- 하지만 training set의 score가 cross-validation의 score보다 훨씬 낮음: 여전히 overfitting"
      ]
    },
    {
      "cell_type": "markdown",
      "metadata": {
        "id": "lTDpwxd0nv7C"
      },
      "source": [
        "## Fine-Tune Your Model"
      ]
    },
    {
      "cell_type": "markdown",
      "metadata": {
        "id": "i_7IjfRBnv7C"
      },
      "source": [
        "### 1) Grid Search\n",
        "\n",
        "- 상대적으로 조합이 거의 없을 때 사용  "
      ]
    },
    {
      "cell_type": "code",
      "metadata": {
        "id": "w4n2Ma7Jnv7C",
        "outputId": "27da541d-b2b1-4815-d0f1-ee9912f244d5"
      },
      "source": [
        "from sklearn.model_selection import GridSearchCV\n",
        "\n",
        "param_grid = [\n",
        "    # 하이퍼파라미터 12(=3×4)개의 조합\n",
        "    # n_estimators는 생성할 트리 개수\n",
        "    {'n_estimators': [3, 10, 30], 'max_features': [2, 4, 6, 8]},\n",
        "    # bootstrap은 False로 하고 6(=2×3)개의 조합\n",
        "    {'bootstrap': [False], 'n_estimators': [3, 10], 'max_features': [2, 3, 4]},\n",
        "  ]\n",
        "\n",
        "forest_reg = RandomForestRegressor(random_state=42)\n",
        "# 다섯 폴드에서 훈련하면 총 (12+6)*5=90번의 훈련\n",
        "grid_search = GridSearchCV(forest_reg, param_grid, cv=5, scoring='neg_mean_squared_error', \n",
        "                           return_train_score=True, n_jobs=-1)\n",
        "grid_search.fit(housing_prepared, housing_labels)"
      ],
      "execution_count": null,
      "outputs": [
        {
          "data": {
            "text/plain": [
              "GridSearchCV(cv=5, estimator=RandomForestRegressor(random_state=42), n_jobs=-1,\n",
              "             param_grid=[{'max_features': [2, 4, 6, 8],\n",
              "                          'n_estimators': [3, 10, 30]},\n",
              "                         {'bootstrap': [False], 'max_features': [2, 3, 4],\n",
              "                          'n_estimators': [3, 10]}],\n",
              "             return_train_score=True, scoring='neg_mean_squared_error')"
            ]
          },
          "execution_count": 93,
          "metadata": {},
          "output_type": "execute_result"
        }
      ]
    },
    {
      "cell_type": "markdown",
      "metadata": {
        "id": "Pri1yEM6nv7C"
      },
      "source": [
        "RandomForestRegressor를 위한 초모수 값의 가장 최고의 조합을 찾아내는 코딩"
      ]
    },
    {
      "cell_type": "code",
      "metadata": {
        "id": "OAWNf9Stnv7C",
        "outputId": "be562538-8361-4524-e28c-15b2a4a86b58"
      },
      "source": [
        "grid_search.best_params_   # best combinatio of parameters"
      ],
      "execution_count": null,
      "outputs": [
        {
          "data": {
            "text/plain": [
              "{'max_features': 8, 'n_estimators': 30}"
            ]
          },
          "execution_count": 94,
          "metadata": {},
          "output_type": "execute_result"
        }
      ]
    },
    {
      "cell_type": "code",
      "metadata": {
        "id": "D-330IRTnv7C",
        "outputId": "5c5ea121-7649-42d5-c3c6-e330a3466877"
      },
      "source": [
        "grid_search.best_estimator_   # best estimator"
      ],
      "execution_count": null,
      "outputs": [
        {
          "data": {
            "text/plain": [
              "RandomForestRegressor(max_features=8, n_estimators=30, random_state=42)"
            ]
          },
          "execution_count": 95,
          "metadata": {},
          "output_type": "execute_result"
        }
      ]
    },
    {
      "cell_type": "code",
      "metadata": {
        "id": "BA-wStoInv7C",
        "outputId": "b17cf961-bccb-453d-fecc-d9ab132cb8e4"
      },
      "source": [
        "cvres = grid_search.cv_results_   # evaluation scores\n",
        "for mean_score, params in zip(cvres[\"mean_test_score\"], cvres[\"params\"]):\n",
        "    print(np.sqrt(-mean_score), params)"
      ],
      "execution_count": null,
      "outputs": [
        {
          "name": "stdout",
          "output_type": "stream",
          "text": [
            "63669.11631261028 {'max_features': 2, 'n_estimators': 3}\n",
            "55627.099719926795 {'max_features': 2, 'n_estimators': 10}\n",
            "53384.57275149205 {'max_features': 2, 'n_estimators': 30}\n",
            "60965.950449450494 {'max_features': 4, 'n_estimators': 3}\n",
            "52741.04704299915 {'max_features': 4, 'n_estimators': 10}\n",
            "50377.40461678399 {'max_features': 4, 'n_estimators': 30}\n",
            "58663.93866579625 {'max_features': 6, 'n_estimators': 3}\n",
            "52006.19873526564 {'max_features': 6, 'n_estimators': 10}\n",
            "50146.51167415009 {'max_features': 6, 'n_estimators': 30}\n",
            "57869.25276169646 {'max_features': 8, 'n_estimators': 3}\n",
            "51711.127883959234 {'max_features': 8, 'n_estimators': 10}\n",
            "49682.273345071546 {'max_features': 8, 'n_estimators': 30}\n",
            "62895.06951262424 {'bootstrap': False, 'max_features': 2, 'n_estimators': 3}\n",
            "54658.176157539405 {'bootstrap': False, 'max_features': 2, 'n_estimators': 10}\n",
            "59470.40652318466 {'bootstrap': False, 'max_features': 3, 'n_estimators': 3}\n",
            "52724.9822587892 {'bootstrap': False, 'max_features': 3, 'n_estimators': 10}\n",
            "57490.5691951261 {'bootstrap': False, 'max_features': 4, 'n_estimators': 3}\n",
            "51009.495668875716 {'bootstrap': False, 'max_features': 4, 'n_estimators': 10}\n"
          ]
        }
      ]
    },
    {
      "cell_type": "markdown",
      "metadata": {
        "id": "ZPyrm8Chnv7C"
      },
      "source": [
        "### 2) Randomized Search\n",
        "\n",
        "- 초모수 search space가 클 때 RandomizedSearchCV로 대신해서 사용\n",
        "\n",
        "- GridSearchCV와 거의 비슷하지만 모든 가능한 조합 대신 주어진 숫자의 랜덤 combinations를 매 반복 마다 각각 랜덤의 초모수 값을 선택하면서 평가\n",
        "\n",
        "- 이점 1: 반복을 1000번 실시했다면 1000개의 서로 다른 초모수 값을 구할 수 있음\n",
        "\n",
        "- 이점 2: 반복의 수를 설정함으로써, 초모수 탐색에 할당하고 싶은 예산을 마음대로 조정할 수 있음"
      ]
    },
    {
      "cell_type": "markdown",
      "metadata": {
        "id": "jysXX4s9nv7C"
      },
      "source": [
        "### 3) Ensemble Methods\n",
        "\n",
        "- 가장 perform을 잘하는 모형을 결합해 system을 미세 조정할 수 있음 (Chapter.7)"
      ]
    },
    {
      "cell_type": "markdown",
      "metadata": {
        "id": "BGTZlYjVnv7C"
      },
      "source": [
        "### 4) Analyze the Best Models and Their Errors\n",
        "\n",
        "ex) RandomForestRegressor는 정확한 예측치를 만들어내기 위해 각 속성의 상대적인 중요성을 나타냄"
      ]
    },
    {
      "cell_type": "code",
      "metadata": {
        "id": "w8Rr_MxZnv7C",
        "outputId": "f3541fe0-8675-4ca3-d4f8-6b651c30ef7b"
      },
      "source": [
        "feature_importances = grid_search.best_estimator_.feature_importances_\n",
        "feature_importances"
      ],
      "execution_count": null,
      "outputs": [
        {
          "data": {
            "text/plain": [
              "array([7.33442355e-02, 6.29090705e-02, 4.11437985e-02, 1.46726854e-02,\n",
              "       1.41064835e-02, 1.48742809e-02, 1.42575993e-02, 3.66158981e-01,\n",
              "       5.64191792e-02, 1.08792957e-01, 5.33510773e-02, 1.03114883e-02,\n",
              "       1.64780994e-01, 6.02803867e-05, 1.96041560e-03, 2.85647464e-03])"
            ]
          },
          "execution_count": 97,
          "metadata": {},
          "output_type": "execute_result"
        }
      ]
    },
    {
      "cell_type": "code",
      "metadata": {
        "id": "2cF4FboQnv7D",
        "outputId": "5fb71b27-4039-4919-9285-7d925129a00b"
      },
      "source": [
        "extra_attribs = [\"rooms_per_hhold\", \"pop_per_hhold\", \"bedrooms_per_room\"]\n",
        "cat_encoder = cat_pipeline.named_steps[\"cat_encoder\"]\n",
        "cat_one_hot_attribs = list(cat_encoder.categories_[0])\n",
        "attributes = num_attribs + extra_attribs + cat_one_hot_attribs\n",
        "sorted(zip(feature_importances, attributes), reverse=True)"
      ],
      "execution_count": null,
      "outputs": [
        {
          "data": {
            "text/plain": [
              "[(0.36615898061813423, 'median_income'),\n",
              " (0.16478099356159054, 'INLAND'),\n",
              " (0.10879295677551575, 'pop_per_hhold'),\n",
              " (0.07334423551601243, 'longitude'),\n",
              " (0.06290907048262032, 'latitude'),\n",
              " (0.056419179181954014, 'rooms_per_hhold'),\n",
              " (0.053351077347675815, 'bedrooms_per_room'),\n",
              " (0.04114379847872964, 'housing_median_age'),\n",
              " (0.014874280890402769, 'population'),\n",
              " (0.014672685420543239, 'total_rooms'),\n",
              " (0.014257599323407808, 'households'),\n",
              " (0.014106483453584104, 'total_bedrooms'),\n",
              " (0.010311488326303788, '<1H OCEAN'),\n",
              " (0.0028564746373201584, 'NEAR OCEAN'),\n",
              " (0.0019604155994780706, 'NEAR BAY'),\n",
              " (6.0280386727366e-05, 'ISLAND')]"
            ]
          },
          "execution_count": 98,
          "metadata": {},
          "output_type": "execute_result"
        }
      ]
    },
    {
      "cell_type": "markdown",
      "metadata": {
        "id": "1SOJ51Zenv7D"
      },
      "source": [
        "위의 정보로 덜 유용한 특성변수를 버릴 수 있음"
      ]
    },
    {
      "cell_type": "markdown",
      "metadata": {
        "id": "YRC5bvainv7D"
      },
      "source": [
        "### 5) Evaluate Your System on the Test Set\n",
        "\n",
        "- test set에서 최종 모형을 평가"
      ]
    },
    {
      "cell_type": "code",
      "metadata": {
        "id": "GVtCk2jonv7D"
      },
      "source": [
        "final_model = grid_search.best_estimator_\n",
        "\n",
        "X_test = strat_test_set.drop(\"median_house_value\", axis=1)\n",
        "y_test = strat_test_set[\"median_house_value\"].copy()\n",
        "\n",
        "X_test_prepared = full_pipeline.transform(X_test)\n",
        "final_predictions = final_model.predict(X_test_prepared)\n",
        "\n",
        "final_mse = mean_squared_error(y_test, final_predictions)\n",
        "final_rmse = np.sqrt(final_mse)"
      ],
      "execution_count": null,
      "outputs": []
    },
    {
      "cell_type": "code",
      "metadata": {
        "id": "ttj8aDsbnv7F",
        "outputId": "47a5d9c1-b624-4f04-e435-2c2ee064469f"
      },
      "source": [
        "final_rmse"
      ],
      "execution_count": null,
      "outputs": [
        {
          "data": {
            "text/plain": [
              "47730.22690385927"
            ]
          },
          "execution_count": 100,
          "metadata": {},
          "output_type": "execute_result"
        }
      ]
    }
  ]
}